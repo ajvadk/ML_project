{
 "cells": [
  {
   "cell_type": "markdown",
   "id": "f0cbb648",
   "metadata": {},
   "source": [
    "# END TO END MACHINE LEEARNING PROJECT\n",
    "## About the data\n",
    "This data has metrics such as the population, median income, median housing price, and so \n",
    "on for each block group in California.\n",
    "Block groups are the smallest geographical unit for which the US Census Bureau publishes \n",
    "sample data (a block group typically has a population of 600 to 3,000 people). We will just \n",
    "call them “districts” for short.<br>\n",
    "Model should learn from this data and be able to predict the median housing price in \n",
    "any district, given all the other metrics.\n",
    "\n",
    "## Load the data\n",
    "Let's look how we load the data using pandas library.\n"
   ]
  },
  {
   "cell_type": "code",
   "execution_count": 2,
   "id": "06426bee",
   "metadata": {},
   "outputs": [],
   "source": [
    "import pandas as pd"
   ]
  },
  {
   "cell_type": "code",
   "execution_count": 239,
   "id": "973d987f",
   "metadata": {},
   "outputs": [],
   "source": [
    "Data=pd.read_csv(\"C:/Users/AJVAD K/Desktop/DS/SEM 2/ML/housing.csv\")\n",
    "housing=Data"
   ]
  },
  {
   "cell_type": "markdown",
   "id": "b531b091",
   "metadata": {},
   "source": [
    "## Take a quick look to data \n",
    "Let’s take a look at the top five rows using the DataFrame’s head() method.<br>\n"
   ]
  },
  {
   "cell_type": "code",
   "execution_count": 240,
   "id": "5a7dc9be",
   "metadata": {},
   "outputs": [
    {
     "data": {
      "text/html": [
       "<div>\n",
       "<style scoped>\n",
       "    .dataframe tbody tr th:only-of-type {\n",
       "        vertical-align: middle;\n",
       "    }\n",
       "\n",
       "    .dataframe tbody tr th {\n",
       "        vertical-align: top;\n",
       "    }\n",
       "\n",
       "    .dataframe thead th {\n",
       "        text-align: right;\n",
       "    }\n",
       "</style>\n",
       "<table border=\"1\" class=\"dataframe\">\n",
       "  <thead>\n",
       "    <tr style=\"text-align: right;\">\n",
       "      <th></th>\n",
       "      <th>longitude</th>\n",
       "      <th>latitude</th>\n",
       "      <th>housing_median_age</th>\n",
       "      <th>total_rooms</th>\n",
       "      <th>total_bedrooms</th>\n",
       "      <th>population</th>\n",
       "      <th>households</th>\n",
       "      <th>median_income</th>\n",
       "      <th>median_house_value</th>\n",
       "      <th>ocean_proximity</th>\n",
       "    </tr>\n",
       "  </thead>\n",
       "  <tbody>\n",
       "    <tr>\n",
       "      <th>0</th>\n",
       "      <td>-122.23</td>\n",
       "      <td>37.88</td>\n",
       "      <td>41.0</td>\n",
       "      <td>880.0</td>\n",
       "      <td>129.0</td>\n",
       "      <td>322.0</td>\n",
       "      <td>126.0</td>\n",
       "      <td>8.3252</td>\n",
       "      <td>452600.0</td>\n",
       "      <td>NEAR BAY</td>\n",
       "    </tr>\n",
       "    <tr>\n",
       "      <th>1</th>\n",
       "      <td>-122.22</td>\n",
       "      <td>37.86</td>\n",
       "      <td>21.0</td>\n",
       "      <td>7099.0</td>\n",
       "      <td>1106.0</td>\n",
       "      <td>2401.0</td>\n",
       "      <td>1138.0</td>\n",
       "      <td>8.3014</td>\n",
       "      <td>358500.0</td>\n",
       "      <td>NEAR BAY</td>\n",
       "    </tr>\n",
       "    <tr>\n",
       "      <th>2</th>\n",
       "      <td>-122.24</td>\n",
       "      <td>37.85</td>\n",
       "      <td>52.0</td>\n",
       "      <td>1467.0</td>\n",
       "      <td>190.0</td>\n",
       "      <td>496.0</td>\n",
       "      <td>177.0</td>\n",
       "      <td>7.2574</td>\n",
       "      <td>352100.0</td>\n",
       "      <td>NEAR BAY</td>\n",
       "    </tr>\n",
       "    <tr>\n",
       "      <th>3</th>\n",
       "      <td>-122.25</td>\n",
       "      <td>37.85</td>\n",
       "      <td>52.0</td>\n",
       "      <td>1274.0</td>\n",
       "      <td>235.0</td>\n",
       "      <td>558.0</td>\n",
       "      <td>219.0</td>\n",
       "      <td>5.6431</td>\n",
       "      <td>341300.0</td>\n",
       "      <td>NEAR BAY</td>\n",
       "    </tr>\n",
       "    <tr>\n",
       "      <th>4</th>\n",
       "      <td>-122.25</td>\n",
       "      <td>37.85</td>\n",
       "      <td>52.0</td>\n",
       "      <td>1627.0</td>\n",
       "      <td>280.0</td>\n",
       "      <td>565.0</td>\n",
       "      <td>259.0</td>\n",
       "      <td>3.8462</td>\n",
       "      <td>342200.0</td>\n",
       "      <td>NEAR BAY</td>\n",
       "    </tr>\n",
       "  </tbody>\n",
       "</table>\n",
       "</div>"
      ],
      "text/plain": [
       "   longitude  latitude  housing_median_age  total_rooms  total_bedrooms  \\\n",
       "0    -122.23     37.88                41.0        880.0           129.0   \n",
       "1    -122.22     37.86                21.0       7099.0          1106.0   \n",
       "2    -122.24     37.85                52.0       1467.0           190.0   \n",
       "3    -122.25     37.85                52.0       1274.0           235.0   \n",
       "4    -122.25     37.85                52.0       1627.0           280.0   \n",
       "\n",
       "   population  households  median_income  median_house_value ocean_proximity  \n",
       "0       322.0       126.0         8.3252            452600.0        NEAR BAY  \n",
       "1      2401.0      1138.0         8.3014            358500.0        NEAR BAY  \n",
       "2       496.0       177.0         7.2574            352100.0        NEAR BAY  \n",
       "3       558.0       219.0         5.6431            341300.0        NEAR BAY  \n",
       "4       565.0       259.0         3.8462            342200.0        NEAR BAY  "
      ]
     },
     "execution_count": 240,
     "metadata": {},
     "output_type": "execute_result"
    }
   ],
   "source": [
    "Data.head()"
   ]
  },
  {
   "cell_type": "markdown",
   "id": "9b8ee745",
   "metadata": {},
   "source": [
    "Each row represents one district. There are 10 attributes: longitude, latitude, housing_median_age, \n",
    "total_rooms, total_bed rooms, population, households, median_income, median_house_value, and \n",
    "ocean_proximity.\n"
   ]
  },
  {
   "cell_type": "code",
   "execution_count": 235,
   "id": "f44b5ca1",
   "metadata": {},
   "outputs": [
    {
     "name": "stdout",
     "output_type": "stream",
     "text": [
      "<class 'pandas.core.frame.DataFrame'>\n",
      "RangeIndex: 20640 entries, 0 to 20639\n",
      "Data columns (total 10 columns):\n",
      " #   Column              Non-Null Count  Dtype  \n",
      "---  ------              --------------  -----  \n",
      " 0   longitude           20640 non-null  float64\n",
      " 1   latitude            20640 non-null  float64\n",
      " 2   housing_median_age  20640 non-null  float64\n",
      " 3   total_rooms         20640 non-null  float64\n",
      " 4   total_bedrooms      20433 non-null  float64\n",
      " 5   population          20640 non-null  float64\n",
      " 6   households          20640 non-null  float64\n",
      " 7   median_income       20640 non-null  float64\n",
      " 8   median_house_value  20640 non-null  float64\n",
      " 9   ocean_proximity     20640 non-null  object \n",
      "dtypes: float64(9), object(1)\n",
      "memory usage: 1.6+ MB\n"
     ]
    }
   ],
   "source": [
    "Data.info()"
   ]
  },
  {
   "cell_type": "markdown",
   "id": "cfa274ef",
   "metadata": {},
   "source": [
    "The info() method is useful to get a quick description of the data, in particular the total number of \n",
    "rows, and each attribute’s type and number of non-null values.<br>\n",
    "Notice that the total_bed rooms attribute has only 20,433 non-null values, meaning that 207 \n",
    "districts are missing this feature. We will need to take care of this later."
   ]
  },
  {
   "cell_type": "code",
   "execution_count": 236,
   "id": "e4723cde",
   "metadata": {},
   "outputs": [
    {
     "data": {
      "text/html": [
       "<div>\n",
       "<style scoped>\n",
       "    .dataframe tbody tr th:only-of-type {\n",
       "        vertical-align: middle;\n",
       "    }\n",
       "\n",
       "    .dataframe tbody tr th {\n",
       "        vertical-align: top;\n",
       "    }\n",
       "\n",
       "    .dataframe thead th {\n",
       "        text-align: right;\n",
       "    }\n",
       "</style>\n",
       "<table border=\"1\" class=\"dataframe\">\n",
       "  <thead>\n",
       "    <tr style=\"text-align: right;\">\n",
       "      <th></th>\n",
       "      <th>longitude</th>\n",
       "      <th>latitude</th>\n",
       "      <th>housing_median_age</th>\n",
       "      <th>total_rooms</th>\n",
       "      <th>total_bedrooms</th>\n",
       "      <th>population</th>\n",
       "      <th>households</th>\n",
       "      <th>median_income</th>\n",
       "      <th>median_house_value</th>\n",
       "    </tr>\n",
       "  </thead>\n",
       "  <tbody>\n",
       "    <tr>\n",
       "      <th>count</th>\n",
       "      <td>20640.000000</td>\n",
       "      <td>20640.000000</td>\n",
       "      <td>20640.000000</td>\n",
       "      <td>20640.000000</td>\n",
       "      <td>20433.000000</td>\n",
       "      <td>20640.000000</td>\n",
       "      <td>20640.000000</td>\n",
       "      <td>20640.000000</td>\n",
       "      <td>20640.000000</td>\n",
       "    </tr>\n",
       "    <tr>\n",
       "      <th>mean</th>\n",
       "      <td>-119.569704</td>\n",
       "      <td>35.631861</td>\n",
       "      <td>28.639486</td>\n",
       "      <td>2635.763081</td>\n",
       "      <td>537.870553</td>\n",
       "      <td>1425.476744</td>\n",
       "      <td>499.539680</td>\n",
       "      <td>3.870671</td>\n",
       "      <td>206855.816909</td>\n",
       "    </tr>\n",
       "    <tr>\n",
       "      <th>std</th>\n",
       "      <td>2.003532</td>\n",
       "      <td>2.135952</td>\n",
       "      <td>12.585558</td>\n",
       "      <td>2181.615252</td>\n",
       "      <td>421.385070</td>\n",
       "      <td>1132.462122</td>\n",
       "      <td>382.329753</td>\n",
       "      <td>1.899822</td>\n",
       "      <td>115395.615874</td>\n",
       "    </tr>\n",
       "    <tr>\n",
       "      <th>min</th>\n",
       "      <td>-124.350000</td>\n",
       "      <td>32.540000</td>\n",
       "      <td>1.000000</td>\n",
       "      <td>2.000000</td>\n",
       "      <td>1.000000</td>\n",
       "      <td>3.000000</td>\n",
       "      <td>1.000000</td>\n",
       "      <td>0.499900</td>\n",
       "      <td>14999.000000</td>\n",
       "    </tr>\n",
       "    <tr>\n",
       "      <th>25%</th>\n",
       "      <td>-121.800000</td>\n",
       "      <td>33.930000</td>\n",
       "      <td>18.000000</td>\n",
       "      <td>1447.750000</td>\n",
       "      <td>296.000000</td>\n",
       "      <td>787.000000</td>\n",
       "      <td>280.000000</td>\n",
       "      <td>2.563400</td>\n",
       "      <td>119600.000000</td>\n",
       "    </tr>\n",
       "    <tr>\n",
       "      <th>50%</th>\n",
       "      <td>-118.490000</td>\n",
       "      <td>34.260000</td>\n",
       "      <td>29.000000</td>\n",
       "      <td>2127.000000</td>\n",
       "      <td>435.000000</td>\n",
       "      <td>1166.000000</td>\n",
       "      <td>409.000000</td>\n",
       "      <td>3.534800</td>\n",
       "      <td>179700.000000</td>\n",
       "    </tr>\n",
       "    <tr>\n",
       "      <th>75%</th>\n",
       "      <td>-118.010000</td>\n",
       "      <td>37.710000</td>\n",
       "      <td>37.000000</td>\n",
       "      <td>3148.000000</td>\n",
       "      <td>647.000000</td>\n",
       "      <td>1725.000000</td>\n",
       "      <td>605.000000</td>\n",
       "      <td>4.743250</td>\n",
       "      <td>264725.000000</td>\n",
       "    </tr>\n",
       "    <tr>\n",
       "      <th>max</th>\n",
       "      <td>-114.310000</td>\n",
       "      <td>41.950000</td>\n",
       "      <td>52.000000</td>\n",
       "      <td>39320.000000</td>\n",
       "      <td>6445.000000</td>\n",
       "      <td>35682.000000</td>\n",
       "      <td>6082.000000</td>\n",
       "      <td>15.000100</td>\n",
       "      <td>500001.000000</td>\n",
       "    </tr>\n",
       "  </tbody>\n",
       "</table>\n",
       "</div>"
      ],
      "text/plain": [
       "          longitude      latitude  housing_median_age   total_rooms  \\\n",
       "count  20640.000000  20640.000000        20640.000000  20640.000000   \n",
       "mean    -119.569704     35.631861           28.639486   2635.763081   \n",
       "std        2.003532      2.135952           12.585558   2181.615252   \n",
       "min     -124.350000     32.540000            1.000000      2.000000   \n",
       "25%     -121.800000     33.930000           18.000000   1447.750000   \n",
       "50%     -118.490000     34.260000           29.000000   2127.000000   \n",
       "75%     -118.010000     37.710000           37.000000   3148.000000   \n",
       "max     -114.310000     41.950000           52.000000  39320.000000   \n",
       "\n",
       "       total_bedrooms    population    households  median_income  \\\n",
       "count    20433.000000  20640.000000  20640.000000   20640.000000   \n",
       "mean       537.870553   1425.476744    499.539680       3.870671   \n",
       "std        421.385070   1132.462122    382.329753       1.899822   \n",
       "min          1.000000      3.000000      1.000000       0.499900   \n",
       "25%        296.000000    787.000000    280.000000       2.563400   \n",
       "50%        435.000000   1166.000000    409.000000       3.534800   \n",
       "75%        647.000000   1725.000000    605.000000       4.743250   \n",
       "max       6445.000000  35682.000000   6082.000000      15.000100   \n",
       "\n",
       "       median_house_value  \n",
       "count        20640.000000  \n",
       "mean        206855.816909  \n",
       "std         115395.615874  \n",
       "min          14999.000000  \n",
       "25%         119600.000000  \n",
       "50%         179700.000000  \n",
       "75%         264725.000000  \n",
       "max         500001.000000  "
      ]
     },
     "execution_count": 236,
     "metadata": {},
     "output_type": "execute_result"
    }
   ],
   "source": [
    "Data.describe()"
   ]
  },
  {
   "cell_type": "markdown",
   "id": "2248419d",
   "metadata": {},
   "source": [
    "The count, mean, min, and max rows are self-explanatory.<br>\n",
    "The 25%, 50%, and 75% rows show the corresponding percentiles: a percentile indicates the \n",
    "value below which a given percentage of observations in a group of observations falls.<br>\n",
    "For example, 25% of the districts have a housing_median_age lower than 18, while 50% are \n",
    "lower than 29 and 75% are lower than 37. These are often called the 25th percentile (or 1st \n",
    "quartile), the median, and the 75th percentile (or 3rd quartile)."
   ]
  },
  {
   "cell_type": "markdown",
   "id": "1db8bca4",
   "metadata": {},
   "source": [
    "When we looked at the top five rows, you probably noticed that the values in that column \n",
    "were repetitive, which means that it is probably a categorical attribute.<br>\n",
    "We can find out what categories exist and how many districts belong to each category by \n",
    "using the value_counts() method:"
   ]
  },
  {
   "cell_type": "code",
   "execution_count": 237,
   "id": "b347ec4d",
   "metadata": {},
   "outputs": [
    {
     "data": {
      "text/plain": [
       "<1H OCEAN     9136\n",
       "INLAND        6551\n",
       "NEAR OCEAN    2658\n",
       "NEAR BAY      2290\n",
       "ISLAND           5\n",
       "Name: ocean_proximity, dtype: int64"
      ]
     },
     "execution_count": 237,
     "metadata": {},
     "output_type": "execute_result"
    }
   ],
   "source": [
    "Data[\"ocean_proximity\"].value_counts()"
   ]
  },
  {
   "cell_type": "markdown",
   "id": "33cb6494",
   "metadata": {},
   "source": [
    "Another quick way to get a feel of the type of data you are dealing with is to plot a \n",
    "histogram for each numerical attribute.<br>\n",
    "A histogram shows the number of instances (on the vertical axis) that have a given value \n",
    "range (on the horizontal axis).<br>\n"
   ]
  },
  {
   "cell_type": "code",
   "execution_count": 8,
   "id": "7eef3876",
   "metadata": {},
   "outputs": [],
   "source": [
    "import matplotlib.pyplot as plt"
   ]
  },
  {
   "cell_type": "code",
   "execution_count": 238,
   "id": "ada4d76d",
   "metadata": {},
   "outputs": [
    {
     "data": {
      "image/png": "[encoded data removed]",
      "text/plain": [
       "<Figure size 1440x1080 with 9 Axes>"
      ]
     },
     "metadata": {
      "needs_background": "light"
     },
     "output_type": "display_data"
    }
   ],
   "source": [
    "Data.hist(bins=50,figsize=(20,15))\n",
    "plt.show()"
   ]
  },
  {
   "cell_type": "markdown",
   "id": "22ecca86",
   "metadata": {},
   "source": [
    "From the plots, We can easly understand that these attributes have very different scales.<br>\n",
    "The housing median age and the median house value were also capped. The latter may be a \n",
    "serious problem since it is your target attribute (your labels). Our Machine Learning \n",
    "algorithms may learn that prices never go beyond that limit. <br>\n",
    "Finally, many histograms are tail heavy: they extend much farther to the right of the \n",
    "median than to the left. This may make it a bit harder for some Machine Learning \n",
    "algorithms to detect patterns. "
   ]
  },
  {
   "cell_type": "markdown",
   "id": "a6bcf32b",
   "metadata": {},
   "source": [
    "## Creat a test set\n",
    "### Method 1\n",
    "When we estimate the generalization error using the test set, our estimate will be too \n",
    "optimistic and we will launch a system that will not perform as well as expected. This is \n",
    "called data snooping bias.<br>\n",
    "Creating a test set is theoretically quite simple: just pick some instances randomly, typically \n",
    "20% of the dataset, and set them aside."
   ]
  },
  {
   "cell_type": "code",
   "execution_count": 11,
   "id": "dae578de",
   "metadata": {},
   "outputs": [],
   "source": [
    "import numpy as np"
   ]
  },
  {
   "cell_type": "code",
   "execution_count": 12,
   "id": "7265206c",
   "metadata": {},
   "outputs": [],
   "source": [
    "def traintestSplit(data,testratio):\n",
    "    randomshuffle=np.random.permutation(len(data))\n",
    "    testsize=int(len(data)*testratio)\n",
    "    testIndices=randomshuffle[:testsize]\n",
    "    trainIndices=randomshuffle[testsize:]\n",
    "    return data.iloc[trainIndices],data.iloc[testIndices]"
   ]
  },
  {
   "cell_type": "code",
   "execution_count": 13,
   "id": "bc8ef0ed",
   "metadata": {},
   "outputs": [],
   "source": [
    "traindata,testdata=traintestSplit(housing,0.2)"
   ]
  },
  {
   "cell_type": "code",
   "execution_count": 14,
   "id": "62f06139",
   "metadata": {},
   "outputs": [
    {
     "data": {
      "text/html": [
       "<div>\n",
       "<style scoped>\n",
       "    .dataframe tbody tr th:only-of-type {\n",
       "        vertical-align: middle;\n",
       "    }\n",
       "\n",
       "    .dataframe tbody tr th {\n",
       "        vertical-align: top;\n",
       "    }\n",
       "\n",
       "    .dataframe thead th {\n",
       "        text-align: right;\n",
       "    }\n",
       "</style>\n",
       "<table border=\"1\" class=\"dataframe\">\n",
       "  <thead>\n",
       "    <tr style=\"text-align: right;\">\n",
       "      <th></th>\n",
       "      <th>longitude</th>\n",
       "      <th>latitude</th>\n",
       "      <th>housing_median_age</th>\n",
       "      <th>total_rooms</th>\n",
       "      <th>total_bedrooms</th>\n",
       "      <th>population</th>\n",
       "      <th>households</th>\n",
       "      <th>median_income</th>\n",
       "      <th>median_house_value</th>\n",
       "      <th>ocean_proximity</th>\n",
       "    </tr>\n",
       "  </thead>\n",
       "  <tbody>\n",
       "    <tr>\n",
       "      <th>7404</th>\n",
       "      <td>-118.21</td>\n",
       "      <td>33.96</td>\n",
       "      <td>39.0</td>\n",
       "      <td>2050.0</td>\n",
       "      <td>529.0</td>\n",
       "      <td>1959.0</td>\n",
       "      <td>485.0</td>\n",
       "      <td>2.1389</td>\n",
       "      <td>168900.0</td>\n",
       "      <td>&lt;1H OCEAN</td>\n",
       "    </tr>\n",
       "    <tr>\n",
       "      <th>10098</th>\n",
       "      <td>-117.95</td>\n",
       "      <td>33.93</td>\n",
       "      <td>25.0</td>\n",
       "      <td>3445.0</td>\n",
       "      <td>801.0</td>\n",
       "      <td>2400.0</td>\n",
       "      <td>750.0</td>\n",
       "      <td>3.4702</td>\n",
       "      <td>161900.0</td>\n",
       "      <td>&lt;1H OCEAN</td>\n",
       "    </tr>\n",
       "    <tr>\n",
       "      <th>9503</th>\n",
       "      <td>-123.39</td>\n",
       "      <td>38.99</td>\n",
       "      <td>28.0</td>\n",
       "      <td>1416.0</td>\n",
       "      <td>294.0</td>\n",
       "      <td>812.0</td>\n",
       "      <td>258.0</td>\n",
       "      <td>3.4063</td>\n",
       "      <td>109400.0</td>\n",
       "      <td>&lt;1H OCEAN</td>\n",
       "    </tr>\n",
       "    <tr>\n",
       "      <th>2611</th>\n",
       "      <td>-123.88</td>\n",
       "      <td>40.93</td>\n",
       "      <td>28.0</td>\n",
       "      <td>1272.0</td>\n",
       "      <td>259.0</td>\n",
       "      <td>519.0</td>\n",
       "      <td>220.0</td>\n",
       "      <td>3.2891</td>\n",
       "      <td>106300.0</td>\n",
       "      <td>&lt;1H OCEAN</td>\n",
       "    </tr>\n",
       "    <tr>\n",
       "      <th>16967</th>\n",
       "      <td>-122.31</td>\n",
       "      <td>37.54</td>\n",
       "      <td>49.0</td>\n",
       "      <td>1340.0</td>\n",
       "      <td>281.0</td>\n",
       "      <td>660.0</td>\n",
       "      <td>284.0</td>\n",
       "      <td>4.1630</td>\n",
       "      <td>393800.0</td>\n",
       "      <td>NEAR OCEAN</td>\n",
       "    </tr>\n",
       "  </tbody>\n",
       "</table>\n",
       "</div>"
      ],
      "text/plain": [
       "       longitude  latitude  housing_median_age  total_rooms  total_bedrooms  \\\n",
       "7404     -118.21     33.96                39.0       2050.0           529.0   \n",
       "10098    -117.95     33.93                25.0       3445.0           801.0   \n",
       "9503     -123.39     38.99                28.0       1416.0           294.0   \n",
       "2611     -123.88     40.93                28.0       1272.0           259.0   \n",
       "16967    -122.31     37.54                49.0       1340.0           281.0   \n",
       "\n",
       "       population  households  median_income  median_house_value  \\\n",
       "7404       1959.0       485.0         2.1389            168900.0   \n",
       "10098      2400.0       750.0         3.4702            161900.0   \n",
       "9503        812.0       258.0         3.4063            109400.0   \n",
       "2611        519.0       220.0         3.2891            106300.0   \n",
       "16967       660.0       284.0         4.1630            393800.0   \n",
       "\n",
       "      ocean_proximity  \n",
       "7404        <1H OCEAN  \n",
       "10098       <1H OCEAN  \n",
       "9503        <1H OCEAN  \n",
       "2611        <1H OCEAN  \n",
       "16967      NEAR OCEAN  "
      ]
     },
     "execution_count": 14,
     "metadata": {},
     "output_type": "execute_result"
    }
   ],
   "source": [
    "traindata.head()"
   ]
  },
  {
   "cell_type": "markdown",
   "id": "e7b053a5",
   "metadata": {},
   "source": [
    "### Method 2\n",
    "This ensures that the test set will remain consistent across multiple runs, even if we refresh \n",
    "the dataset. "
   ]
  },
  {
   "cell_type": "code",
   "execution_count": 15,
   "id": "299af24c",
   "metadata": {},
   "outputs": [],
   "source": [
    "\n",
    "import hashlib"
   ]
  },
  {
   "cell_type": "code",
   "execution_count": 16,
   "id": "3660cacd",
   "metadata": {},
   "outputs": [],
   "source": [
    "def test_set_check(identifier,testratio,hash):\n",
    "    return hash(np.int64(identifier)).digest()[-1]<256*testratio"
   ]
  },
  {
   "cell_type": "code",
   "execution_count": 17,
   "id": "019c409d",
   "metadata": {},
   "outputs": [],
   "source": [
    "def test_set_by_id_column(data,id_column,testratio,hash=hashlib.md5):\n",
    "    id_s=data[id_column]\n",
    "    in_test_check=id_s.apply(lambda id_:test_set_check(id_,testratio,hash))\n",
    "    return data.loc[~in_test_check],data.loc[in_test_check]"
   ]
  },
  {
   "cell_type": "code",
   "execution_count": 18,
   "id": "bc8860ea",
   "metadata": {},
   "outputs": [
    {
     "data": {
      "text/html": [
       "<div>\n",
       "<style scoped>\n",
       "    .dataframe tbody tr th:only-of-type {\n",
       "        vertical-align: middle;\n",
       "    }\n",
       "\n",
       "    .dataframe tbody tr th {\n",
       "        vertical-align: top;\n",
       "    }\n",
       "\n",
       "    .dataframe thead th {\n",
       "        text-align: right;\n",
       "    }\n",
       "</style>\n",
       "<table border=\"1\" class=\"dataframe\">\n",
       "  <thead>\n",
       "    <tr style=\"text-align: right;\">\n",
       "      <th></th>\n",
       "      <th>index</th>\n",
       "      <th>longitude</th>\n",
       "      <th>latitude</th>\n",
       "      <th>housing_median_age</th>\n",
       "      <th>total_rooms</th>\n",
       "      <th>total_bedrooms</th>\n",
       "      <th>population</th>\n",
       "      <th>households</th>\n",
       "      <th>median_income</th>\n",
       "      <th>median_house_value</th>\n",
       "      <th>ocean_proximity</th>\n",
       "    </tr>\n",
       "  </thead>\n",
       "  <tbody>\n",
       "    <tr>\n",
       "      <th>0</th>\n",
       "      <td>0</td>\n",
       "      <td>-122.23</td>\n",
       "      <td>37.88</td>\n",
       "      <td>41.0</td>\n",
       "      <td>880.0</td>\n",
       "      <td>129.0</td>\n",
       "      <td>322.0</td>\n",
       "      <td>126.0</td>\n",
       "      <td>8.3252</td>\n",
       "      <td>452600.0</td>\n",
       "      <td>NEAR BAY</td>\n",
       "    </tr>\n",
       "    <tr>\n",
       "      <th>1</th>\n",
       "      <td>1</td>\n",
       "      <td>-122.22</td>\n",
       "      <td>37.86</td>\n",
       "      <td>21.0</td>\n",
       "      <td>7099.0</td>\n",
       "      <td>1106.0</td>\n",
       "      <td>2401.0</td>\n",
       "      <td>1138.0</td>\n",
       "      <td>8.3014</td>\n",
       "      <td>358500.0</td>\n",
       "      <td>NEAR BAY</td>\n",
       "    </tr>\n",
       "    <tr>\n",
       "      <th>2</th>\n",
       "      <td>2</td>\n",
       "      <td>-122.24</td>\n",
       "      <td>37.85</td>\n",
       "      <td>52.0</td>\n",
       "      <td>1467.0</td>\n",
       "      <td>190.0</td>\n",
       "      <td>496.0</td>\n",
       "      <td>177.0</td>\n",
       "      <td>7.2574</td>\n",
       "      <td>352100.0</td>\n",
       "      <td>NEAR BAY</td>\n",
       "    </tr>\n",
       "    <tr>\n",
       "      <th>3</th>\n",
       "      <td>3</td>\n",
       "      <td>-122.25</td>\n",
       "      <td>37.85</td>\n",
       "      <td>52.0</td>\n",
       "      <td>1274.0</td>\n",
       "      <td>235.0</td>\n",
       "      <td>558.0</td>\n",
       "      <td>219.0</td>\n",
       "      <td>5.6431</td>\n",
       "      <td>341300.0</td>\n",
       "      <td>NEAR BAY</td>\n",
       "    </tr>\n",
       "    <tr>\n",
       "      <th>4</th>\n",
       "      <td>4</td>\n",
       "      <td>-122.25</td>\n",
       "      <td>37.85</td>\n",
       "      <td>52.0</td>\n",
       "      <td>1627.0</td>\n",
       "      <td>280.0</td>\n",
       "      <td>565.0</td>\n",
       "      <td>259.0</td>\n",
       "      <td>3.8462</td>\n",
       "      <td>342200.0</td>\n",
       "      <td>NEAR BAY</td>\n",
       "    </tr>\n",
       "  </tbody>\n",
       "</table>\n",
       "</div>"
      ],
      "text/plain": [
       "   index  longitude  latitude  housing_median_age  total_rooms  \\\n",
       "0      0    -122.23     37.88                41.0        880.0   \n",
       "1      1    -122.22     37.86                21.0       7099.0   \n",
       "2      2    -122.24     37.85                52.0       1467.0   \n",
       "3      3    -122.25     37.85                52.0       1274.0   \n",
       "4      4    -122.25     37.85                52.0       1627.0   \n",
       "\n",
       "   total_bedrooms  population  households  median_income  median_house_value  \\\n",
       "0           129.0       322.0       126.0         8.3252            452600.0   \n",
       "1          1106.0      2401.0      1138.0         8.3014            358500.0   \n",
       "2           190.0       496.0       177.0         7.2574            352100.0   \n",
       "3           235.0       558.0       219.0         5.6431            341300.0   \n",
       "4           280.0       565.0       259.0         3.8462            342200.0   \n",
       "\n",
       "  ocean_proximity  \n",
       "0        NEAR BAY  \n",
       "1        NEAR BAY  \n",
       "2        NEAR BAY  \n",
       "3        NEAR BAY  \n",
       "4        NEAR BAY  "
      ]
     },
     "execution_count": 18,
     "metadata": {},
     "output_type": "execute_result"
    }
   ],
   "source": [
    "housing_with_id=housing.reset_index()\n",
    "housing_with_id.head()"
   ]
  },
  {
   "cell_type": "code",
   "execution_count": 19,
   "id": "0da5e45b",
   "metadata": {},
   "outputs": [],
   "source": [
    "traindata2,testdata2=test_set_by_id_column(housing_with_id,\"index\",0.2)"
   ]
  },
  {
   "cell_type": "markdown",
   "id": "cdba7402",
   "metadata": {},
   "source": [
    "### METHOD 3\n"
   ]
  },
  {
   "cell_type": "code",
   "execution_count": 20,
   "id": "d9718a95",
   "metadata": {},
   "outputs": [],
   "source": [
    "from sklearn.model_selection import train_test_split\n",
    "traindata3,testdata3=train_test_split(housing,test_size=0.2,random_state=34)"
   ]
  },
  {
   "cell_type": "markdown",
   "id": "d8d29943",
   "metadata": {},
   "source": [
    "### Method 4\n",
    "This is called stratified sampling: the population is divided into homogeneous subgroups called \n",
    "strata, and the right number of instances is sampled from each stratum to guarantee that the test \n",
    "set is representative of the overall population.<br><br>\n",
    "\n",
    "The following code creates an income category attribute by dividing the median income by 1.5 \n",
    "(to limit the number of income categories) and rounding up using ceil (to have discrete \n",
    "categories), and then merging all the categories greater than 5 into category 5:\n"
   ]
  },
  {
   "cell_type": "code",
   "execution_count": 241,
   "id": "638bd15a",
   "metadata": {},
   "outputs": [],
   "source": [
    "\n",
    "Data[\"income_cat\"]=np.ceil(Data[\"median_income\"]/1.5)\n",
    "Data[\"income_cat\"].where(Data[\"income_cat\"]<5,5.0,inplace=True)"
   ]
  },
  {
   "cell_type": "code",
   "execution_count": 242,
   "id": "a474db11",
   "metadata": {},
   "outputs": [
    {
     "data": {
      "text/html": [
       "<div>\n",
       "<style scoped>\n",
       "    .dataframe tbody tr th:only-of-type {\n",
       "        vertical-align: middle;\n",
       "    }\n",
       "\n",
       "    .dataframe tbody tr th {\n",
       "        vertical-align: top;\n",
       "    }\n",
       "\n",
       "    .dataframe thead th {\n",
       "        text-align: right;\n",
       "    }\n",
       "</style>\n",
       "<table border=\"1\" class=\"dataframe\">\n",
       "  <thead>\n",
       "    <tr style=\"text-align: right;\">\n",
       "      <th></th>\n",
       "      <th>longitude</th>\n",
       "      <th>latitude</th>\n",
       "      <th>housing_median_age</th>\n",
       "      <th>total_rooms</th>\n",
       "      <th>total_bedrooms</th>\n",
       "      <th>population</th>\n",
       "      <th>households</th>\n",
       "      <th>median_income</th>\n",
       "      <th>median_house_value</th>\n",
       "      <th>ocean_proximity</th>\n",
       "      <th>income_cat</th>\n",
       "    </tr>\n",
       "  </thead>\n",
       "  <tbody>\n",
       "    <tr>\n",
       "      <th>0</th>\n",
       "      <td>-122.23</td>\n",
       "      <td>37.88</td>\n",
       "      <td>41.0</td>\n",
       "      <td>880.0</td>\n",
       "      <td>129.0</td>\n",
       "      <td>322.0</td>\n",
       "      <td>126.0</td>\n",
       "      <td>8.3252</td>\n",
       "      <td>452600.0</td>\n",
       "      <td>NEAR BAY</td>\n",
       "      <td>5.0</td>\n",
       "    </tr>\n",
       "    <tr>\n",
       "      <th>1</th>\n",
       "      <td>-122.22</td>\n",
       "      <td>37.86</td>\n",
       "      <td>21.0</td>\n",
       "      <td>7099.0</td>\n",
       "      <td>1106.0</td>\n",
       "      <td>2401.0</td>\n",
       "      <td>1138.0</td>\n",
       "      <td>8.3014</td>\n",
       "      <td>358500.0</td>\n",
       "      <td>NEAR BAY</td>\n",
       "      <td>5.0</td>\n",
       "    </tr>\n",
       "    <tr>\n",
       "      <th>2</th>\n",
       "      <td>-122.24</td>\n",
       "      <td>37.85</td>\n",
       "      <td>52.0</td>\n",
       "      <td>1467.0</td>\n",
       "      <td>190.0</td>\n",
       "      <td>496.0</td>\n",
       "      <td>177.0</td>\n",
       "      <td>7.2574</td>\n",
       "      <td>352100.0</td>\n",
       "      <td>NEAR BAY</td>\n",
       "      <td>5.0</td>\n",
       "    </tr>\n",
       "    <tr>\n",
       "      <th>3</th>\n",
       "      <td>-122.25</td>\n",
       "      <td>37.85</td>\n",
       "      <td>52.0</td>\n",
       "      <td>1274.0</td>\n",
       "      <td>235.0</td>\n",
       "      <td>558.0</td>\n",
       "      <td>219.0</td>\n",
       "      <td>5.6431</td>\n",
       "      <td>341300.0</td>\n",
       "      <td>NEAR BAY</td>\n",
       "      <td>4.0</td>\n",
       "    </tr>\n",
       "    <tr>\n",
       "      <th>4</th>\n",
       "      <td>-122.25</td>\n",
       "      <td>37.85</td>\n",
       "      <td>52.0</td>\n",
       "      <td>1627.0</td>\n",
       "      <td>280.0</td>\n",
       "      <td>565.0</td>\n",
       "      <td>259.0</td>\n",
       "      <td>3.8462</td>\n",
       "      <td>342200.0</td>\n",
       "      <td>NEAR BAY</td>\n",
       "      <td>3.0</td>\n",
       "    </tr>\n",
       "  </tbody>\n",
       "</table>\n",
       "</div>"
      ],
      "text/plain": [
       "   longitude  latitude  housing_median_age  total_rooms  total_bedrooms  \\\n",
       "0    -122.23     37.88                41.0        880.0           129.0   \n",
       "1    -122.22     37.86                21.0       7099.0          1106.0   \n",
       "2    -122.24     37.85                52.0       1467.0           190.0   \n",
       "3    -122.25     37.85                52.0       1274.0           235.0   \n",
       "4    -122.25     37.85                52.0       1627.0           280.0   \n",
       "\n",
       "   population  households  median_income  median_house_value ocean_proximity  \\\n",
       "0       322.0       126.0         8.3252            452600.0        NEAR BAY   \n",
       "1      2401.0      1138.0         8.3014            358500.0        NEAR BAY   \n",
       "2       496.0       177.0         7.2574            352100.0        NEAR BAY   \n",
       "3       558.0       219.0         5.6431            341300.0        NEAR BAY   \n",
       "4       565.0       259.0         3.8462            342200.0        NEAR BAY   \n",
       "\n",
       "   income_cat  \n",
       "0         5.0  \n",
       "1         5.0  \n",
       "2         5.0  \n",
       "3         4.0  \n",
       "4         3.0  "
      ]
     },
     "execution_count": 242,
     "metadata": {},
     "output_type": "execute_result"
    }
   ],
   "source": [
    "Data.head()"
   ]
  },
  {
   "cell_type": "code",
   "execution_count": 243,
   "id": "9f7fe551",
   "metadata": {},
   "outputs": [],
   "source": [
    "from sklearn.model_selection import StratifiedShuffleSplit\n",
    "split = StratifiedShuffleSplit(n_splits=1, test_size=0.2, random_state=42)\n"
   ]
  },
  {
   "cell_type": "code",
   "execution_count": 244,
   "id": "5cc6f577",
   "metadata": {},
   "outputs": [],
   "source": [
    "for train,test in split.split(Data,Data[\"income_cat\"]):\n",
    "    StratTrain=Data.loc[train]\n",
    "    StratTest=Data.loc[test]"
   ]
  },
  {
   "cell_type": "code",
   "execution_count": 245,
   "id": "c1cc9c78",
   "metadata": {},
   "outputs": [
    {
     "data": {
      "text/html": [
       "<div>\n",
       "<style scoped>\n",
       "    .dataframe tbody tr th:only-of-type {\n",
       "        vertical-align: middle;\n",
       "    }\n",
       "\n",
       "    .dataframe tbody tr th {\n",
       "        vertical-align: top;\n",
       "    }\n",
       "\n",
       "    .dataframe thead th {\n",
       "        text-align: right;\n",
       "    }\n",
       "</style>\n",
       "<table border=\"1\" class=\"dataframe\">\n",
       "  <thead>\n",
       "    <tr style=\"text-align: right;\">\n",
       "      <th></th>\n",
       "      <th>longitude</th>\n",
       "      <th>latitude</th>\n",
       "      <th>housing_median_age</th>\n",
       "      <th>total_rooms</th>\n",
       "      <th>total_bedrooms</th>\n",
       "      <th>population</th>\n",
       "      <th>households</th>\n",
       "      <th>median_income</th>\n",
       "      <th>median_house_value</th>\n",
       "      <th>ocean_proximity</th>\n",
       "      <th>income_cat</th>\n",
       "    </tr>\n",
       "  </thead>\n",
       "  <tbody>\n",
       "    <tr>\n",
       "      <th>17606</th>\n",
       "      <td>-121.89</td>\n",
       "      <td>37.29</td>\n",
       "      <td>38.0</td>\n",
       "      <td>1568.0</td>\n",
       "      <td>351.0</td>\n",
       "      <td>710.0</td>\n",
       "      <td>339.0</td>\n",
       "      <td>2.7042</td>\n",
       "      <td>286600.0</td>\n",
       "      <td>&lt;1H OCEAN</td>\n",
       "      <td>2.0</td>\n",
       "    </tr>\n",
       "    <tr>\n",
       "      <th>18632</th>\n",
       "      <td>-121.93</td>\n",
       "      <td>37.05</td>\n",
       "      <td>14.0</td>\n",
       "      <td>679.0</td>\n",
       "      <td>108.0</td>\n",
       "      <td>306.0</td>\n",
       "      <td>113.0</td>\n",
       "      <td>6.4214</td>\n",
       "      <td>340600.0</td>\n",
       "      <td>&lt;1H OCEAN</td>\n",
       "      <td>5.0</td>\n",
       "    </tr>\n",
       "    <tr>\n",
       "      <th>14650</th>\n",
       "      <td>-117.20</td>\n",
       "      <td>32.77</td>\n",
       "      <td>31.0</td>\n",
       "      <td>1952.0</td>\n",
       "      <td>471.0</td>\n",
       "      <td>936.0</td>\n",
       "      <td>462.0</td>\n",
       "      <td>2.8621</td>\n",
       "      <td>196900.0</td>\n",
       "      <td>NEAR OCEAN</td>\n",
       "      <td>2.0</td>\n",
       "    </tr>\n",
       "    <tr>\n",
       "      <th>3230</th>\n",
       "      <td>-119.61</td>\n",
       "      <td>36.31</td>\n",
       "      <td>25.0</td>\n",
       "      <td>1847.0</td>\n",
       "      <td>371.0</td>\n",
       "      <td>1460.0</td>\n",
       "      <td>353.0</td>\n",
       "      <td>1.8839</td>\n",
       "      <td>46300.0</td>\n",
       "      <td>INLAND</td>\n",
       "      <td>2.0</td>\n",
       "    </tr>\n",
       "    <tr>\n",
       "      <th>3555</th>\n",
       "      <td>-118.59</td>\n",
       "      <td>34.23</td>\n",
       "      <td>17.0</td>\n",
       "      <td>6592.0</td>\n",
       "      <td>1525.0</td>\n",
       "      <td>4459.0</td>\n",
       "      <td>1463.0</td>\n",
       "      <td>3.0347</td>\n",
       "      <td>254500.0</td>\n",
       "      <td>&lt;1H OCEAN</td>\n",
       "      <td>3.0</td>\n",
       "    </tr>\n",
       "    <tr>\n",
       "      <th>...</th>\n",
       "      <td>...</td>\n",
       "      <td>...</td>\n",
       "      <td>...</td>\n",
       "      <td>...</td>\n",
       "      <td>...</td>\n",
       "      <td>...</td>\n",
       "      <td>...</td>\n",
       "      <td>...</td>\n",
       "      <td>...</td>\n",
       "      <td>...</td>\n",
       "      <td>...</td>\n",
       "    </tr>\n",
       "    <tr>\n",
       "      <th>6563</th>\n",
       "      <td>-118.13</td>\n",
       "      <td>34.20</td>\n",
       "      <td>46.0</td>\n",
       "      <td>1271.0</td>\n",
       "      <td>236.0</td>\n",
       "      <td>573.0</td>\n",
       "      <td>210.0</td>\n",
       "      <td>4.9312</td>\n",
       "      <td>240200.0</td>\n",
       "      <td>INLAND</td>\n",
       "      <td>4.0</td>\n",
       "    </tr>\n",
       "    <tr>\n",
       "      <th>12053</th>\n",
       "      <td>-117.56</td>\n",
       "      <td>33.88</td>\n",
       "      <td>40.0</td>\n",
       "      <td>1196.0</td>\n",
       "      <td>294.0</td>\n",
       "      <td>1052.0</td>\n",
       "      <td>258.0</td>\n",
       "      <td>2.0682</td>\n",
       "      <td>113000.0</td>\n",
       "      <td>INLAND</td>\n",
       "      <td>2.0</td>\n",
       "    </tr>\n",
       "    <tr>\n",
       "      <th>13908</th>\n",
       "      <td>-116.40</td>\n",
       "      <td>34.09</td>\n",
       "      <td>9.0</td>\n",
       "      <td>4855.0</td>\n",
       "      <td>872.0</td>\n",
       "      <td>2098.0</td>\n",
       "      <td>765.0</td>\n",
       "      <td>3.2723</td>\n",
       "      <td>97800.0</td>\n",
       "      <td>INLAND</td>\n",
       "      <td>3.0</td>\n",
       "    </tr>\n",
       "    <tr>\n",
       "      <th>11159</th>\n",
       "      <td>-118.01</td>\n",
       "      <td>33.82</td>\n",
       "      <td>31.0</td>\n",
       "      <td>1960.0</td>\n",
       "      <td>380.0</td>\n",
       "      <td>1356.0</td>\n",
       "      <td>356.0</td>\n",
       "      <td>4.0625</td>\n",
       "      <td>225900.0</td>\n",
       "      <td>&lt;1H OCEAN</td>\n",
       "      <td>3.0</td>\n",
       "    </tr>\n",
       "    <tr>\n",
       "      <th>15775</th>\n",
       "      <td>-122.45</td>\n",
       "      <td>37.77</td>\n",
       "      <td>52.0</td>\n",
       "      <td>3095.0</td>\n",
       "      <td>682.0</td>\n",
       "      <td>1269.0</td>\n",
       "      <td>639.0</td>\n",
       "      <td>3.5750</td>\n",
       "      <td>500001.0</td>\n",
       "      <td>NEAR BAY</td>\n",
       "      <td>3.0</td>\n",
       "    </tr>\n",
       "  </tbody>\n",
       "</table>\n",
       "<p>16512 rows × 11 columns</p>\n",
       "</div>"
      ],
      "text/plain": [
       "       longitude  latitude  housing_median_age  total_rooms  total_bedrooms  \\\n",
       "17606    -121.89     37.29                38.0       1568.0           351.0   \n",
       "18632    -121.93     37.05                14.0        679.0           108.0   \n",
       "14650    -117.20     32.77                31.0       1952.0           471.0   \n",
       "3230     -119.61     36.31                25.0       1847.0           371.0   \n",
       "3555     -118.59     34.23                17.0       6592.0          1525.0   \n",
       "...          ...       ...                 ...          ...             ...   \n",
       "6563     -118.13     34.20                46.0       1271.0           236.0   \n",
       "12053    -117.56     33.88                40.0       1196.0           294.0   \n",
       "13908    -116.40     34.09                 9.0       4855.0           872.0   \n",
       "11159    -118.01     33.82                31.0       1960.0           380.0   \n",
       "15775    -122.45     37.77                52.0       3095.0           682.0   \n",
       "\n",
       "       population  households  median_income  median_house_value  \\\n",
       "17606       710.0       339.0         2.7042            286600.0   \n",
       "18632       306.0       113.0         6.4214            340600.0   \n",
       "14650       936.0       462.0         2.8621            196900.0   \n",
       "3230       1460.0       353.0         1.8839             46300.0   \n",
       "3555       4459.0      1463.0         3.0347            254500.0   \n",
       "...           ...         ...            ...                 ...   \n",
       "6563        573.0       210.0         4.9312            240200.0   \n",
       "12053      1052.0       258.0         2.0682            113000.0   \n",
       "13908      2098.0       765.0         3.2723             97800.0   \n",
       "11159      1356.0       356.0         4.0625            225900.0   \n",
       "15775      1269.0       639.0         3.5750            500001.0   \n",
       "\n",
       "      ocean_proximity  income_cat  \n",
       "17606       <1H OCEAN         2.0  \n",
       "18632       <1H OCEAN         5.0  \n",
       "14650      NEAR OCEAN         2.0  \n",
       "3230           INLAND         2.0  \n",
       "3555        <1H OCEAN         3.0  \n",
       "...               ...         ...  \n",
       "6563           INLAND         4.0  \n",
       "12053          INLAND         2.0  \n",
       "13908          INLAND         3.0  \n",
       "11159       <1H OCEAN         3.0  \n",
       "15775        NEAR BAY         3.0  \n",
       "\n",
       "[16512 rows x 11 columns]"
      ]
     },
     "execution_count": 245,
     "metadata": {},
     "output_type": "execute_result"
    }
   ],
   "source": [
    "StratTrain"
   ]
  },
  {
   "cell_type": "code",
   "execution_count": 246,
   "id": "b85a87b9",
   "metadata": {},
   "outputs": [
    {
     "data": {
      "text/html": [
       "<div>\n",
       "<style scoped>\n",
       "    .dataframe tbody tr th:only-of-type {\n",
       "        vertical-align: middle;\n",
       "    }\n",
       "\n",
       "    .dataframe tbody tr th {\n",
       "        vertical-align: top;\n",
       "    }\n",
       "\n",
       "    .dataframe thead th {\n",
       "        text-align: right;\n",
       "    }\n",
       "</style>\n",
       "<table border=\"1\" class=\"dataframe\">\n",
       "  <thead>\n",
       "    <tr style=\"text-align: right;\">\n",
       "      <th></th>\n",
       "      <th>longitude</th>\n",
       "      <th>latitude</th>\n",
       "      <th>housing_median_age</th>\n",
       "      <th>total_rooms</th>\n",
       "      <th>total_bedrooms</th>\n",
       "      <th>population</th>\n",
       "      <th>households</th>\n",
       "      <th>median_income</th>\n",
       "      <th>median_house_value</th>\n",
       "      <th>ocean_proximity</th>\n",
       "      <th>income_cat</th>\n",
       "    </tr>\n",
       "  </thead>\n",
       "  <tbody>\n",
       "    <tr>\n",
       "      <th>5241</th>\n",
       "      <td>-118.39</td>\n",
       "      <td>34.12</td>\n",
       "      <td>29.0</td>\n",
       "      <td>6447.0</td>\n",
       "      <td>1012.0</td>\n",
       "      <td>2184.0</td>\n",
       "      <td>960.0</td>\n",
       "      <td>8.2816</td>\n",
       "      <td>500001.0</td>\n",
       "      <td>&lt;1H OCEAN</td>\n",
       "      <td>5.0</td>\n",
       "    </tr>\n",
       "    <tr>\n",
       "      <th>10970</th>\n",
       "      <td>-117.86</td>\n",
       "      <td>33.77</td>\n",
       "      <td>39.0</td>\n",
       "      <td>4159.0</td>\n",
       "      <td>655.0</td>\n",
       "      <td>1669.0</td>\n",
       "      <td>651.0</td>\n",
       "      <td>4.6111</td>\n",
       "      <td>240300.0</td>\n",
       "      <td>&lt;1H OCEAN</td>\n",
       "      <td>4.0</td>\n",
       "    </tr>\n",
       "    <tr>\n",
       "      <th>20351</th>\n",
       "      <td>-119.05</td>\n",
       "      <td>34.21</td>\n",
       "      <td>27.0</td>\n",
       "      <td>4357.0</td>\n",
       "      <td>926.0</td>\n",
       "      <td>2110.0</td>\n",
       "      <td>876.0</td>\n",
       "      <td>3.0119</td>\n",
       "      <td>218200.0</td>\n",
       "      <td>&lt;1H OCEAN</td>\n",
       "      <td>3.0</td>\n",
       "    </tr>\n",
       "    <tr>\n",
       "      <th>6568</th>\n",
       "      <td>-118.15</td>\n",
       "      <td>34.20</td>\n",
       "      <td>52.0</td>\n",
       "      <td>1786.0</td>\n",
       "      <td>306.0</td>\n",
       "      <td>1018.0</td>\n",
       "      <td>322.0</td>\n",
       "      <td>4.1518</td>\n",
       "      <td>182100.0</td>\n",
       "      <td>INLAND</td>\n",
       "      <td>3.0</td>\n",
       "    </tr>\n",
       "    <tr>\n",
       "      <th>13285</th>\n",
       "      <td>-117.68</td>\n",
       "      <td>34.07</td>\n",
       "      <td>32.0</td>\n",
       "      <td>1775.0</td>\n",
       "      <td>314.0</td>\n",
       "      <td>1067.0</td>\n",
       "      <td>302.0</td>\n",
       "      <td>4.0375</td>\n",
       "      <td>121300.0</td>\n",
       "      <td>INLAND</td>\n",
       "      <td>3.0</td>\n",
       "    </tr>\n",
       "    <tr>\n",
       "      <th>...</th>\n",
       "      <td>...</td>\n",
       "      <td>...</td>\n",
       "      <td>...</td>\n",
       "      <td>...</td>\n",
       "      <td>...</td>\n",
       "      <td>...</td>\n",
       "      <td>...</td>\n",
       "      <td>...</td>\n",
       "      <td>...</td>\n",
       "      <td>...</td>\n",
       "      <td>...</td>\n",
       "    </tr>\n",
       "    <tr>\n",
       "      <th>20519</th>\n",
       "      <td>-121.53</td>\n",
       "      <td>38.58</td>\n",
       "      <td>33.0</td>\n",
       "      <td>4988.0</td>\n",
       "      <td>1169.0</td>\n",
       "      <td>2414.0</td>\n",
       "      <td>1075.0</td>\n",
       "      <td>1.9728</td>\n",
       "      <td>76400.0</td>\n",
       "      <td>INLAND</td>\n",
       "      <td>2.0</td>\n",
       "    </tr>\n",
       "    <tr>\n",
       "      <th>17430</th>\n",
       "      <td>-120.44</td>\n",
       "      <td>34.65</td>\n",
       "      <td>30.0</td>\n",
       "      <td>2265.0</td>\n",
       "      <td>512.0</td>\n",
       "      <td>1402.0</td>\n",
       "      <td>471.0</td>\n",
       "      <td>1.9750</td>\n",
       "      <td>134000.0</td>\n",
       "      <td>NEAR OCEAN</td>\n",
       "      <td>2.0</td>\n",
       "    </tr>\n",
       "    <tr>\n",
       "      <th>4019</th>\n",
       "      <td>-118.49</td>\n",
       "      <td>34.18</td>\n",
       "      <td>31.0</td>\n",
       "      <td>3073.0</td>\n",
       "      <td>674.0</td>\n",
       "      <td>1486.0</td>\n",
       "      <td>684.0</td>\n",
       "      <td>4.8984</td>\n",
       "      <td>311700.0</td>\n",
       "      <td>&lt;1H OCEAN</td>\n",
       "      <td>4.0</td>\n",
       "    </tr>\n",
       "    <tr>\n",
       "      <th>12107</th>\n",
       "      <td>-117.32</td>\n",
       "      <td>33.99</td>\n",
       "      <td>27.0</td>\n",
       "      <td>5464.0</td>\n",
       "      <td>850.0</td>\n",
       "      <td>2400.0</td>\n",
       "      <td>836.0</td>\n",
       "      <td>4.7110</td>\n",
       "      <td>133500.0</td>\n",
       "      <td>INLAND</td>\n",
       "      <td>4.0</td>\n",
       "    </tr>\n",
       "    <tr>\n",
       "      <th>2398</th>\n",
       "      <td>-118.91</td>\n",
       "      <td>36.79</td>\n",
       "      <td>19.0</td>\n",
       "      <td>1616.0</td>\n",
       "      <td>324.0</td>\n",
       "      <td>187.0</td>\n",
       "      <td>80.0</td>\n",
       "      <td>3.7857</td>\n",
       "      <td>78600.0</td>\n",
       "      <td>INLAND</td>\n",
       "      <td>3.0</td>\n",
       "    </tr>\n",
       "  </tbody>\n",
       "</table>\n",
       "<p>4128 rows × 11 columns</p>\n",
       "</div>"
      ],
      "text/plain": [
       "       longitude  latitude  housing_median_age  total_rooms  total_bedrooms  \\\n",
       "5241     -118.39     34.12                29.0       6447.0          1012.0   \n",
       "10970    -117.86     33.77                39.0       4159.0           655.0   \n",
       "20351    -119.05     34.21                27.0       4357.0           926.0   \n",
       "6568     -118.15     34.20                52.0       1786.0           306.0   \n",
       "13285    -117.68     34.07                32.0       1775.0           314.0   \n",
       "...          ...       ...                 ...          ...             ...   \n",
       "20519    -121.53     38.58                33.0       4988.0          1169.0   \n",
       "17430    -120.44     34.65                30.0       2265.0           512.0   \n",
       "4019     -118.49     34.18                31.0       3073.0           674.0   \n",
       "12107    -117.32     33.99                27.0       5464.0           850.0   \n",
       "2398     -118.91     36.79                19.0       1616.0           324.0   \n",
       "\n",
       "       population  households  median_income  median_house_value  \\\n",
       "5241       2184.0       960.0         8.2816            500001.0   \n",
       "10970      1669.0       651.0         4.6111            240300.0   \n",
       "20351      2110.0       876.0         3.0119            218200.0   \n",
       "6568       1018.0       322.0         4.1518            182100.0   \n",
       "13285      1067.0       302.0         4.0375            121300.0   \n",
       "...           ...         ...            ...                 ...   \n",
       "20519      2414.0      1075.0         1.9728             76400.0   \n",
       "17430      1402.0       471.0         1.9750            134000.0   \n",
       "4019       1486.0       684.0         4.8984            311700.0   \n",
       "12107      2400.0       836.0         4.7110            133500.0   \n",
       "2398        187.0        80.0         3.7857             78600.0   \n",
       "\n",
       "      ocean_proximity  income_cat  \n",
       "5241        <1H OCEAN         5.0  \n",
       "10970       <1H OCEAN         4.0  \n",
       "20351       <1H OCEAN         3.0  \n",
       "6568           INLAND         3.0  \n",
       "13285          INLAND         3.0  \n",
       "...               ...         ...  \n",
       "20519          INLAND         2.0  \n",
       "17430      NEAR OCEAN         2.0  \n",
       "4019        <1H OCEAN         4.0  \n",
       "12107          INLAND         4.0  \n",
       "2398           INLAND         3.0  \n",
       "\n",
       "[4128 rows x 11 columns]"
      ]
     },
     "execution_count": 246,
     "metadata": {},
     "output_type": "execute_result"
    }
   ],
   "source": [
    "StratTest"
   ]
  },
  {
   "cell_type": "markdown",
   "id": "efe78708",
   "metadata": {},
   "source": [
    "##  DISCOVER AND VISUALIZE THE DATA TO GAIN INSIGHTS\n",
    "First, make sure you have put the test set aside and you are only exploring the training \n",
    "set. Also, if the training set is very large, you may want to sample an exploration set, to \n",
    "make manipulations easy and fast.<br>\n",
    "In our case, the set is quite small so you can just work directly on the full set. Let’s create \n",
    "a copy so you can play with it without harming the training set:"
   ]
  },
  {
   "cell_type": "code",
   "execution_count": 22,
   "id": "89a2a67f",
   "metadata": {},
   "outputs": [],
   "source": [
    "housing=traindata3.copy()"
   ]
  },
  {
   "cell_type": "code",
   "execution_count": 23,
   "id": "4b8209aa",
   "metadata": {},
   "outputs": [],
   "source": [
    "import matplotlib.pyplot as plt"
   ]
  },
  {
   "cell_type": "code",
   "execution_count": 24,
   "id": "21898598",
   "metadata": {},
   "outputs": [
    {
     "data": {
      "text/plain": [
       "<AxesSubplot:xlabel='longitude', ylabel='latitude'>"
      ]
     },
     "execution_count": 24,
     "metadata": {},
     "output_type": "execute_result"
    },
    {
     "data": {
      "image/png": "[encoded data removed]",
      "text/plain": [
       "<Figure size 432x288 with 1 Axes>"
      ]
     },
     "metadata": {
      "needs_background": "light"
     },
     "output_type": "display_data"
    }
   ],
   "source": [
    "housing.plot(kind=\"scatter\",x='longitude',y=\"latitude\",alpha=0.2)"
   ]
  },
  {
   "cell_type": "code",
   "execution_count": 25,
   "id": "237fe68a",
   "metadata": {},
   "outputs": [
    {
     "data": {
      "text/plain": [
       "<AxesSubplot:xlabel='longitude', ylabel='latitude'>"
      ]
     },
     "execution_count": 25,
     "metadata": {},
     "output_type": "execute_result"
    },
    {
     "data": {
      "image/png": "[encoded data removed]",
      "text/plain": [
       "<Figure size 432x288 with 2 Axes>"
      ]
     },
     "metadata": {
      "needs_background": "light"
     },
     "output_type": "display_data"
    }
   ],
   "source": [
    "housing.plot(kind=\"scatter\",x=\"longitude\",y=\"latitude\",s=housing[\"population\"]/100,alpha=0.3,label=\"population\",cmap=plt.get_cmap(\"jet\"),c=\"median_house_value\",colorbar=True)\n"
   ]
  },
  {
   "cell_type": "markdown",
   "id": "b4c76b72",
   "metadata": {},
   "source": [
    "This image tells that the housing \n",
    "prices are very much related to the \n",
    "location (e.g., close to the ocean) and to \n",
    "the population density, as you probably \n",
    "knew already.<br>\n",
    "It will probably be useful to use a \n",
    "clustering algorithm to detect the main \n",
    "clusters and add new features that \n",
    "measure the proximity to the cluster \n",
    "centers.\n"
   ]
  },
  {
   "cell_type": "markdown",
   "id": "a6d65c28",
   "metadata": {},
   "source": [
    "### Looking for correlation\n",
    "Since the dataset is not too large, we can easily compute the standard correlation coefficient (also called \n",
    "Pearson’s r) between every pair of attributes using the corr() method:"
   ]
  },
  {
   "cell_type": "code",
   "execution_count": 26,
   "id": "73ee9836",
   "metadata": {},
   "outputs": [],
   "source": [
    "correlationmatrix=housing.corr()"
   ]
  },
  {
   "cell_type": "code",
   "execution_count": 27,
   "id": "5749b30b",
   "metadata": {},
   "outputs": [
    {
     "data": {
      "text/plain": [
       "median_house_value    1.000000\n",
       "median_income         0.686797\n",
       "total_rooms           0.138636\n",
       "housing_median_age    0.099998\n",
       "households            0.070040\n",
       "total_bedrooms        0.053397\n",
       "population           -0.021625\n",
       "longitude            -0.042718\n",
       "latitude             -0.146174\n",
       "Name: median_house_value, dtype: float64"
      ]
     },
     "execution_count": 27,
     "metadata": {},
     "output_type": "execute_result"
    }
   ],
   "source": [
    "correlationmatrix[\"median_house_value\"].sort_values(ascending=False)"
   ]
  },
  {
   "cell_type": "markdown",
   "id": "42187d7a",
   "metadata": {},
   "source": [
    "When it is close to 1, it means that there is a strong \n",
    "positive correlation; for example, the median house \n",
    "value tends to go up when the median income goes up.<br>\n",
    "When the coefficient is close to –1, it means that there is \n",
    "a strong negative correlation; we can see a small \n",
    "negative correlation between the latitude and the \n",
    "median house value (i.e., prices have a slight tendency \n",
    "to go down when you go north). "
   ]
  },
  {
   "cell_type": "markdown",
   "id": "ebe3b7dc",
   "metadata": {},
   "source": [
    "### Panda's Scatter plotting"
   ]
  },
  {
   "cell_type": "code",
   "execution_count": 28,
   "id": "0af416f2",
   "metadata": {},
   "outputs": [],
   "source": [
    "from pandas.plotting import scatter_matrix"
   ]
  },
  {
   "cell_type": "code",
   "execution_count": 29,
   "id": "6762250a",
   "metadata": {},
   "outputs": [
    {
     "data": {
      "image/png": "[encoded data removed]",
      "text/plain": [
       "<Figure size 864x288 with 16 Axes>"
      ]
     },
     "metadata": {
      "needs_background": "light"
     },
     "output_type": "display_data"
    }
   ],
   "source": [
    "atributes=[\"median_house_value\",\"median_income\",\"total_bedrooms\",\"population\"]\n",
    "scatter_matrix(housing[atributes],figsize=(12,4))\n",
    "plt.show()"
   ]
  },
  {
   "cell_type": "markdown",
   "id": "7800f665",
   "metadata": {},
   "source": [
    "### Experimenting with various attribute combinations\n",
    "For example, the total number of rooms in a district is not very useful if we don’t know \n",
    "how many households there are. What we really want is the number of rooms per \n",
    "household.<br>\n",
    "Similarly, the total number of bedrooms by itself is not very useful: you probably want to \n",
    "compare it to the number of rooms. And the population per household also seems like an \n",
    "interesting attribute combination to look at.\n",
    "\n"
   ]
  },
  {
   "cell_type": "code",
   "execution_count": 247,
   "id": "d54f0a7f",
   "metadata": {},
   "outputs": [],
   "source": [
    "Train=StratTrain.copy()\n",
    "Train[\"room_per_househoulds\"]=Train[\"total_rooms\"]/Train[\"households\"]\n",
    "Train[\"bedroom_per_room\"]=Train[\"total_bedrooms\"]/Train[\"total_rooms\"]\n",
    "Train[\"population_per_households\"]=Train[\"population\"]/Train[\"households\"]"
   ]
  },
  {
   "cell_type": "code",
   "execution_count": 248,
   "id": "24b40b06",
   "metadata": {},
   "outputs": [
    {
     "data": {
      "text/html": [
       "<div>\n",
       "<style scoped>\n",
       "    .dataframe tbody tr th:only-of-type {\n",
       "        vertical-align: middle;\n",
       "    }\n",
       "\n",
       "    .dataframe tbody tr th {\n",
       "        vertical-align: top;\n",
       "    }\n",
       "\n",
       "    .dataframe thead th {\n",
       "        text-align: right;\n",
       "    }\n",
       "</style>\n",
       "<table border=\"1\" class=\"dataframe\">\n",
       "  <thead>\n",
       "    <tr style=\"text-align: right;\">\n",
       "      <th></th>\n",
       "      <th>longitude</th>\n",
       "      <th>latitude</th>\n",
       "      <th>housing_median_age</th>\n",
       "      <th>total_rooms</th>\n",
       "      <th>total_bedrooms</th>\n",
       "      <th>population</th>\n",
       "      <th>households</th>\n",
       "      <th>median_income</th>\n",
       "      <th>median_house_value</th>\n",
       "      <th>ocean_proximity</th>\n",
       "      <th>income_cat</th>\n",
       "      <th>room_per_househoulds</th>\n",
       "      <th>bedroom_per_room</th>\n",
       "      <th>population_per_households</th>\n",
       "    </tr>\n",
       "  </thead>\n",
       "  <tbody>\n",
       "    <tr>\n",
       "      <th>17606</th>\n",
       "      <td>-121.89</td>\n",
       "      <td>37.29</td>\n",
       "      <td>38.0</td>\n",
       "      <td>1568.0</td>\n",
       "      <td>351.0</td>\n",
       "      <td>710.0</td>\n",
       "      <td>339.0</td>\n",
       "      <td>2.7042</td>\n",
       "      <td>286600.0</td>\n",
       "      <td>&lt;1H OCEAN</td>\n",
       "      <td>2.0</td>\n",
       "      <td>4.625369</td>\n",
       "      <td>0.223852</td>\n",
       "      <td>2.094395</td>\n",
       "    </tr>\n",
       "    <tr>\n",
       "      <th>18632</th>\n",
       "      <td>-121.93</td>\n",
       "      <td>37.05</td>\n",
       "      <td>14.0</td>\n",
       "      <td>679.0</td>\n",
       "      <td>108.0</td>\n",
       "      <td>306.0</td>\n",
       "      <td>113.0</td>\n",
       "      <td>6.4214</td>\n",
       "      <td>340600.0</td>\n",
       "      <td>&lt;1H OCEAN</td>\n",
       "      <td>5.0</td>\n",
       "      <td>6.008850</td>\n",
       "      <td>0.159057</td>\n",
       "      <td>2.707965</td>\n",
       "    </tr>\n",
       "    <tr>\n",
       "      <th>14650</th>\n",
       "      <td>-117.20</td>\n",
       "      <td>32.77</td>\n",
       "      <td>31.0</td>\n",
       "      <td>1952.0</td>\n",
       "      <td>471.0</td>\n",
       "      <td>936.0</td>\n",
       "      <td>462.0</td>\n",
       "      <td>2.8621</td>\n",
       "      <td>196900.0</td>\n",
       "      <td>NEAR OCEAN</td>\n",
       "      <td>2.0</td>\n",
       "      <td>4.225108</td>\n",
       "      <td>0.241291</td>\n",
       "      <td>2.025974</td>\n",
       "    </tr>\n",
       "    <tr>\n",
       "      <th>3230</th>\n",
       "      <td>-119.61</td>\n",
       "      <td>36.31</td>\n",
       "      <td>25.0</td>\n",
       "      <td>1847.0</td>\n",
       "      <td>371.0</td>\n",
       "      <td>1460.0</td>\n",
       "      <td>353.0</td>\n",
       "      <td>1.8839</td>\n",
       "      <td>46300.0</td>\n",
       "      <td>INLAND</td>\n",
       "      <td>2.0</td>\n",
       "      <td>5.232295</td>\n",
       "      <td>0.200866</td>\n",
       "      <td>4.135977</td>\n",
       "    </tr>\n",
       "    <tr>\n",
       "      <th>3555</th>\n",
       "      <td>-118.59</td>\n",
       "      <td>34.23</td>\n",
       "      <td>17.0</td>\n",
       "      <td>6592.0</td>\n",
       "      <td>1525.0</td>\n",
       "      <td>4459.0</td>\n",
       "      <td>1463.0</td>\n",
       "      <td>3.0347</td>\n",
       "      <td>254500.0</td>\n",
       "      <td>&lt;1H OCEAN</td>\n",
       "      <td>3.0</td>\n",
       "      <td>4.505810</td>\n",
       "      <td>0.231341</td>\n",
       "      <td>3.047847</td>\n",
       "    </tr>\n",
       "  </tbody>\n",
       "</table>\n",
       "</div>"
      ],
      "text/plain": [
       "       longitude  latitude  housing_median_age  total_rooms  total_bedrooms  \\\n",
       "17606    -121.89     37.29                38.0       1568.0           351.0   \n",
       "18632    -121.93     37.05                14.0        679.0           108.0   \n",
       "14650    -117.20     32.77                31.0       1952.0           471.0   \n",
       "3230     -119.61     36.31                25.0       1847.0           371.0   \n",
       "3555     -118.59     34.23                17.0       6592.0          1525.0   \n",
       "\n",
       "       population  households  median_income  median_house_value  \\\n",
       "17606       710.0       339.0         2.7042            286600.0   \n",
       "18632       306.0       113.0         6.4214            340600.0   \n",
       "14650       936.0       462.0         2.8621            196900.0   \n",
       "3230       1460.0       353.0         1.8839             46300.0   \n",
       "3555       4459.0      1463.0         3.0347            254500.0   \n",
       "\n",
       "      ocean_proximity  income_cat  room_per_househoulds  bedroom_per_room  \\\n",
       "17606       <1H OCEAN         2.0              4.625369          0.223852   \n",
       "18632       <1H OCEAN         5.0              6.008850          0.159057   \n",
       "14650      NEAR OCEAN         2.0              4.225108          0.241291   \n",
       "3230           INLAND         2.0              5.232295          0.200866   \n",
       "3555        <1H OCEAN         3.0              4.505810          0.231341   \n",
       "\n",
       "       population_per_households  \n",
       "17606                   2.094395  \n",
       "18632                   2.707965  \n",
       "14650                   2.025974  \n",
       "3230                    4.135977  \n",
       "3555                    3.047847  "
      ]
     },
     "execution_count": 248,
     "metadata": {},
     "output_type": "execute_result"
    }
   ],
   "source": [
    "Train.head()"
   ]
  },
  {
   "cell_type": "code",
   "execution_count": 249,
   "id": "dab1e8a4",
   "metadata": {},
   "outputs": [
    {
     "data": {
      "text/plain": [
       "median_house_value           1.000000\n",
       "median_income                0.687160\n",
       "income_cat                   0.642274\n",
       "room_per_househoulds         0.146285\n",
       "total_rooms                  0.135097\n",
       "housing_median_age           0.114110\n",
       "households                   0.064506\n",
       "total_bedrooms               0.047689\n",
       "population_per_households   -0.021985\n",
       "population                  -0.026920\n",
       "longitude                   -0.047432\n",
       "latitude                    -0.142724\n",
       "bedroom_per_room            -0.259984\n",
       "Name: median_house_value, dtype: float64"
      ]
     },
     "execution_count": 249,
     "metadata": {},
     "output_type": "execute_result"
    }
   ],
   "source": [
    "Train.corr()[\"median_house_value\"].sort_values(ascending=False)"
   ]
  },
  {
   "cell_type": "markdown",
   "id": "e9976213",
   "metadata": {},
   "source": [
    "The new bedrooms_per_room attribute is much more correlated with the median house \n",
    "value than the total number of rooms or bedrooms.<br>\n",
    "Apparently houses with a lower bedroom/room ratio tend to be more expensive."
   ]
  },
  {
   "cell_type": "markdown",
   "id": "9c905c54",
   "metadata": {},
   "source": [
    "## Prepare the data for machine learning\n"
   ]
  },
  {
   "cell_type": "code",
   "execution_count": 250,
   "id": "b61e3577",
   "metadata": {},
   "outputs": [],
   "source": [
    "housing=StratTrain.drop(\"median_house_value\",axis=1)\n",
    "housing_labels=StratTrain[\"median_house_value\"].copy()"
   ]
  },
  {
   "cell_type": "code",
   "execution_count": 251,
   "id": "4cec6de1",
   "metadata": {},
   "outputs": [
    {
     "name": "stdout",
     "output_type": "stream",
     "text": [
      "<class 'pandas.core.frame.DataFrame'>\n",
      "Int64Index: 16512 entries, 17606 to 15775\n",
      "Data columns (total 10 columns):\n",
      " #   Column              Non-Null Count  Dtype  \n",
      "---  ------              --------------  -----  \n",
      " 0   longitude           16512 non-null  float64\n",
      " 1   latitude            16512 non-null  float64\n",
      " 2   housing_median_age  16512 non-null  float64\n",
      " 3   total_rooms         16512 non-null  float64\n",
      " 4   total_bedrooms      16354 non-null  float64\n",
      " 5   population          16512 non-null  float64\n",
      " 6   households          16512 non-null  float64\n",
      " 7   median_income       16512 non-null  float64\n",
      " 8   ocean_proximity     16512 non-null  object \n",
      " 9   income_cat          16512 non-null  float64\n",
      "dtypes: float64(9), object(1)\n",
      "memory usage: 1.4+ MB\n"
     ]
    }
   ],
   "source": [
    "housing.info()"
   ]
  },
  {
   "cell_type": "code",
   "execution_count": 252,
   "id": "e89bfb40",
   "metadata": {},
   "outputs": [],
   "source": [
    "median=housing[\"total_bedrooms\"].median()\n",
    "housing[\"total_bedrooms\"]=housing[\"total_bedrooms\"].fillna(median)"
   ]
  },
  {
   "cell_type": "code",
   "execution_count": 253,
   "id": "e052693d",
   "metadata": {},
   "outputs": [
    {
     "name": "stdout",
     "output_type": "stream",
     "text": [
      "<class 'pandas.core.frame.DataFrame'>\n",
      "Int64Index: 16512 entries, 17606 to 15775\n",
      "Data columns (total 10 columns):\n",
      " #   Column              Non-Null Count  Dtype  \n",
      "---  ------              --------------  -----  \n",
      " 0   longitude           16512 non-null  float64\n",
      " 1   latitude            16512 non-null  float64\n",
      " 2   housing_median_age  16512 non-null  float64\n",
      " 3   total_rooms         16512 non-null  float64\n",
      " 4   total_bedrooms      16512 non-null  float64\n",
      " 5   population          16512 non-null  float64\n",
      " 6   households          16512 non-null  float64\n",
      " 7   median_income       16512 non-null  float64\n",
      " 8   ocean_proximity     16512 non-null  object \n",
      " 9   income_cat          16512 non-null  float64\n",
      "dtypes: float64(9), object(1)\n",
      "memory usage: 1.4+ MB\n"
     ]
    }
   ],
   "source": [
    "housing.info()"
   ]
  },
  {
   "cell_type": "markdown",
   "id": "12f5b917",
   "metadata": {},
   "source": [
    "Scikit-Learn provides a handy class to take care of missing values: Imputer. <br>\n",
    "First, you need to create an Imputer instance, specifying that you want to replace each attribute’s \n",
    "missing values with the median of that attribute:"
   ]
  },
  {
   "cell_type": "code",
   "execution_count": 190,
   "id": "f973a237",
   "metadata": {},
   "outputs": [],
   "source": [
    "from sklearn.impute import SimpleImputer"
   ]
  },
  {
   "cell_type": "code",
   "execution_count": 255,
   "id": "029974e9",
   "metadata": {},
   "outputs": [],
   "source": [
    "imputer=SimpleImputer(strategy=\"median\")"
   ]
  },
  {
   "cell_type": "code",
   "execution_count": 256,
   "id": "51c400ea",
   "metadata": {},
   "outputs": [
    {
     "data": {
      "text/plain": [
       "SimpleImputer(strategy='median')"
      ]
     },
     "execution_count": 256,
     "metadata": {},
     "output_type": "execute_result"
    }
   ],
   "source": [
    "housing_num=housing.drop(\"ocean_proximity\",axis=1)\n",
    "imputer.fit(housing_num)"
   ]
  },
  {
   "cell_type": "code",
   "execution_count": 257,
   "id": "9d873701",
   "metadata": {},
   "outputs": [
    {
     "data": {
      "text/plain": [
       "array([-118.51  ,   34.26  ,   29.    , 2119.5   ,  433.    , 1164.    ,\n",
       "        408.    ,    3.5409,    3.    ])"
      ]
     },
     "execution_count": 257,
     "metadata": {},
     "output_type": "execute_result"
    }
   ],
   "source": [
    "imputer.statistics_"
   ]
  },
  {
   "cell_type": "code",
   "execution_count": 258,
   "id": "fba03bc6",
   "metadata": {},
   "outputs": [
    {
     "data": {
      "text/plain": [
       "array([-118.51  ,   34.26  ,   29.    , 2119.5   ,  433.    , 1164.    ,\n",
       "        408.    ,    3.5409,    3.    ])"
      ]
     },
     "execution_count": 258,
     "metadata": {},
     "output_type": "execute_result"
    }
   ],
   "source": [
    "housing.median().values"
   ]
  },
  {
   "cell_type": "code",
   "execution_count": 259,
   "id": "d586d99d",
   "metadata": {},
   "outputs": [],
   "source": [
    "X=imputer.fit_transform(housing_num)"
   ]
  },
  {
   "cell_type": "code",
   "execution_count": 261,
   "id": "74418378",
   "metadata": {},
   "outputs": [],
   "source": [
    "housing_tr=pd.DataFrame(X,columns=housing_num.columns)"
   ]
  },
  {
   "cell_type": "code",
   "execution_count": 262,
   "id": "8dbd9cf3",
   "metadata": {},
   "outputs": [
    {
     "name": "stdout",
     "output_type": "stream",
     "text": [
      "<class 'pandas.core.frame.DataFrame'>\n",
      "RangeIndex: 16512 entries, 0 to 16511\n",
      "Data columns (total 9 columns):\n",
      " #   Column              Non-Null Count  Dtype  \n",
      "---  ------              --------------  -----  \n",
      " 0   longitude           16512 non-null  float64\n",
      " 1   latitude            16512 non-null  float64\n",
      " 2   housing_median_age  16512 non-null  float64\n",
      " 3   total_rooms         16512 non-null  float64\n",
      " 4   total_bedrooms      16512 non-null  float64\n",
      " 5   population          16512 non-null  float64\n",
      " 6   households          16512 non-null  float64\n",
      " 7   median_income       16512 non-null  float64\n",
      " 8   income_cat          16512 non-null  float64\n",
      "dtypes: float64(9)\n",
      "memory usage: 1.1 MB\n"
     ]
    }
   ],
   "source": [
    "housing_tr.info()"
   ]
  },
  {
   "cell_type": "markdown",
   "id": "b61f129c",
   "metadata": {},
   "source": [
    "Only the total_bedrooms attribute had missing values, but we cannot be sure that there won’t be any \n",
    "missing values in new data after the system goes live, so it is safer to apply the imputer to all the \n",
    "numerical attributes"
   ]
  },
  {
   "cell_type": "markdown",
   "id": "319a39ec",
   "metadata": {},
   "source": [
    "### Handling text and Catogorical attributes\n",
    "Earlier we left out the categorical attribute ocean_proximity because it is a text attribute so we cannot \n",
    "compute its median. Most Machine Learning algorithms prefer to work with numbers anyway, so let’s \n",
    "convert these text labels to numbers.<br>\n",
    "Scikit-Learn provides a transformer for this task called LabelEncoder:"
   ]
  },
  {
   "cell_type": "code",
   "execution_count": 127,
   "id": "280ecfa9",
   "metadata": {},
   "outputs": [],
   "source": [
    "from sklearn.preprocessing import LabelEncoder"
   ]
  },
  {
   "cell_type": "code",
   "execution_count": 197,
   "id": "27e2c2c9",
   "metadata": {},
   "outputs": [],
   "source": [
    "encoder=LabelEncoder()"
   ]
  },
  {
   "cell_type": "code",
   "execution_count": 198,
   "id": "315a9708",
   "metadata": {},
   "outputs": [],
   "source": [
    "housingCat=housing[\"ocean_proximity\"]\n",
    "encoded=encoder.fit_transform(housingCat)"
   ]
  },
  {
   "cell_type": "code",
   "execution_count": 199,
   "id": "c213b81d",
   "metadata": {},
   "outputs": [
    {
     "data": {
      "text/plain": [
       "(16512,)"
      ]
     },
     "execution_count": 199,
     "metadata": {},
     "output_type": "execute_result"
    }
   ],
   "source": [
    "housingCat.shape"
   ]
  },
  {
   "cell_type": "code",
   "execution_count": 200,
   "id": "3916b560",
   "metadata": {},
   "outputs": [
    {
     "data": {
      "text/plain": [
       "array([0, 0, 4, ..., 1, 0, 3])"
      ]
     },
     "execution_count": 200,
     "metadata": {},
     "output_type": "execute_result"
    }
   ],
   "source": [
    "encoded"
   ]
  },
  {
   "cell_type": "markdown",
   "id": "645a8960",
   "metadata": {},
   "source": [
    "We can apply both transformations (from text categories to integer categories, then from integer categories to \n",
    "one-hot vectors) in one shot using the LabelBinarizer class:\n"
   ]
  },
  {
   "cell_type": "code",
   "execution_count": 131,
   "id": "4d460fb3",
   "metadata": {},
   "outputs": [],
   "source": [
    "from sklearn.preprocessing import LabelBinarizer"
   ]
  },
  {
   "cell_type": "code",
   "execution_count": 263,
   "id": "19a6be1f",
   "metadata": {},
   "outputs": [
    {
     "data": {
      "text/plain": [
       "array([[1, 0, 0, 0, 0],\n",
       "       [1, 0, 0, 0, 0],\n",
       "       [0, 0, 0, 0, 1],\n",
       "       ...,\n",
       "       [0, 1, 0, 0, 0],\n",
       "       [1, 0, 0, 0, 0],\n",
       "       [0, 0, 0, 1, 0]])"
      ]
     },
     "execution_count": 263,
     "metadata": {},
     "output_type": "execute_result"
    }
   ],
   "source": [
    "Binarizer=LabelBinarizer()\n",
    "housing_cat = housing[\"ocean_proximity\"]\n",
    "onehotbinarizer=Binarizer.fit_transform(housing_cat)\n",
    "onehotbinarizer"
   ]
  },
  {
   "cell_type": "code",
   "execution_count": null,
   "id": "7a482029",
   "metadata": {},
   "outputs": [],
   "source": []
  },
  {
   "cell_type": "markdown",
   "id": "d567d6c5",
   "metadata": {},
   "source": [
    "Standardization is quite different: first it subtracts the mean value (so standardized values \n",
    "always have a zero mean), and then it divides by the variance so that the resulting \n",
    "distribution has unit variance. <br>\n",
    " Scikit-Learn provides a transformer called StandardScaler for standardization\n",
    "### Transformation pipelines"
   ]
  },
  {
   "cell_type": "code",
   "execution_count": 66,
   "id": "633f0c10",
   "metadata": {},
   "outputs": [],
   "source": [
    "from sklearn.preprocessing import StandardScaler\n",
    "from sklearn.pipeline import Pipeline"
   ]
  },
  {
   "cell_type": "code",
   "execution_count": 264,
   "id": "bfc543d9",
   "metadata": {},
   "outputs": [],
   "source": [
    "num_pipeline=Pipeline([\n",
    "    (\"imputer\",SimpleImputer()),\n",
    "    (\"scaler\",StandardScaler())\n",
    "])"
   ]
  },
  {
   "cell_type": "code",
   "execution_count": 265,
   "id": "6238f56b",
   "metadata": {},
   "outputs": [],
   "source": [
    "housing_prepared=num_pipeline.fit_transform(housing_num)"
   ]
  },
  {
   "cell_type": "code",
   "execution_count": 266,
   "id": "0df62068",
   "metadata": {},
   "outputs": [
    {
     "data": {
      "text/plain": [
       "array([[-1.15604281,  0.77194962,  0.74333089, ...,  0.        ,\n",
       "         0.        ,  0.        ],\n",
       "       [-1.17602483,  0.6596948 , -1.1653172 , ...,  0.        ,\n",
       "         0.        ,  0.        ],\n",
       "       [ 1.18684903, -1.34218285,  0.18664186, ...,  0.        ,\n",
       "         0.        ,  1.        ],\n",
       "       ...,\n",
       "       [ 1.58648943, -0.72478134, -1.56295222, ...,  0.        ,\n",
       "         0.        ,  0.        ],\n",
       "       [ 0.78221312, -0.85106801,  0.18664186, ...,  0.        ,\n",
       "         0.        ,  0.        ],\n",
       "       [-1.43579109,  0.99645926,  1.85670895, ...,  0.        ,\n",
       "         1.        ,  0.        ]])"
      ]
     },
     "execution_count": 266,
     "metadata": {},
     "output_type": "execute_result"
    }
   ],
   "source": [
    "hp=np.concatenate((housing_prepared,onehotbinarizer),axis=1)\n",
    "hp"
   ]
  },
  {
   "cell_type": "markdown",
   "id": "78ad87d2",
   "metadata": {},
   "source": [
    "Scikit-Learn provides a FeatureUnion class for this. You give it a list of transformers (which \n",
    "can be entire transformer pipelines), and when its transform() method is called it runs each \n",
    "transformer’s transform() method in parallel, waits for their output, and then concatenates \n",
    "them and returns the result (and of course calling its fit() method calls all each transformer’s \n",
    "fit() method)."
   ]
  },
  {
   "cell_type": "markdown",
   "id": "2a03c869",
   "metadata": {},
   "source": [
    "## Training and evaluating on training set"
   ]
  },
  {
   "cell_type": "code",
   "execution_count": 267,
   "id": "08d55cf9",
   "metadata": {},
   "outputs": [
    {
     "data": {
      "text/plain": [
       "LinearRegression()"
      ]
     },
     "execution_count": 267,
     "metadata": {},
     "output_type": "execute_result"
    }
   ],
   "source": [
    "from sklearn.linear_model import LinearRegression\n",
    "lin_model=LinearRegression()\n",
    "lin_model.fit(hp,housing_labels)\n"
   ]
  },
  {
   "cell_type": "code",
   "execution_count": 268,
   "id": "c42954b3",
   "metadata": {},
   "outputs": [
    {
     "data": {
      "text/plain": [
       "array([205841.96139906, 329060.05217695, 205219.96047357, ...,\n",
       "       100690.6084635 , 215934.8748381 , 278815.04829906])"
      ]
     },
     "execution_count": 268,
     "metadata": {},
     "output_type": "execute_result"
    }
   ],
   "source": [
    "predicted=lin_model.predict(hp)\n",
    "predicted"
   ]
  },
  {
   "cell_type": "code",
   "execution_count": 223,
   "id": "4e9cccf3",
   "metadata": {},
   "outputs": [
    {
     "data": {
      "text/plain": [
       "7067     181100.0\n",
       "18972    191300.0\n",
       "10877    165300.0\n",
       "20440    308100.0\n",
       "15424    156900.0\n",
       "           ...   \n",
       "16708    346100.0\n",
       "3157      82200.0\n",
       "10730    500000.0\n",
       "5242     500001.0\n",
       "11681    165100.0\n",
       "Name: median_house_value, Length: 16512, dtype: float64"
      ]
     },
     "execution_count": 223,
     "metadata": {},
     "output_type": "execute_result"
    }
   ],
   "source": [
    "housing_label"
   ]
  },
  {
   "cell_type": "markdown",
   "id": "91e274d5",
   "metadata": {},
   "source": [
    "Let’s measure this regression model’s RMSE on the whole training set using Scikit-Learn’s\n",
    "mean_squared_error function:"
   ]
  },
  {
   "cell_type": "code",
   "execution_count": 269,
   "id": "1a682dd1",
   "metadata": {},
   "outputs": [
    {
     "data": {
      "text/plain": [
       "147370.6911060255"
      ]
     },
     "execution_count": 269,
     "metadata": {},
     "output_type": "execute_result"
    }
   ],
   "source": [
    "from sklearn.metrics import mean_squared_error\n",
    "lin_mse=mean_squared_error(housing_label,predicted)\n",
    "linrmse=np.sqrt(lin_mse)\n",
    "linrmse\n"
   ]
  },
  {
   "cell_type": "markdown",
   "id": "60984760",
   "metadata": {},
   "source": [
    "\n",
    "Let’s train a **DecisionTreeRegressor**. This is a powerful model, capable of finding complex \n",
    "nonlinear relationships in the data. The code should look familiar by now:"
   ]
  },
  {
   "cell_type": "code",
   "execution_count": 270,
   "id": "d781175c",
   "metadata": {},
   "outputs": [
    {
     "data": {
      "text/plain": [
       "DecisionTreeRegressor()"
      ]
     },
     "execution_count": 270,
     "metadata": {},
     "output_type": "execute_result"
    }
   ],
   "source": [
    "from sklearn.tree import DecisionTreeRegressor\n",
    "tree_reg = DecisionTreeRegressor()\n",
    "tree_reg.fit(hp, housing_label)"
   ]
  },
  {
   "cell_type": "code",
   "execution_count": 271,
   "id": "02cc2715",
   "metadata": {},
   "outputs": [
    {
     "data": {
      "text/plain": [
       "0.0"
      ]
     },
     "execution_count": 271,
     "metadata": {},
     "output_type": "execute_result"
    }
   ],
   "source": [
    "housing_predictions = tree_reg.predict(hp)\n",
    "tree_mse = mean_squared_error(housing_label, housing_predictions)\n",
    "tree_rmse = np.sqrt(tree_mse)\n",
    "tree_rmse"
   ]
  },
  {
   "cell_type": "markdown",
   "id": "673200d8",
   "metadata": {},
   "source": [
    "Of course, it is \n",
    "much more likely that the model has badly overfit the data.<br>\n",
    "One way to evaluate the Decision Tree model would be to use the train_test_split function to \n",
    "split the training set into a smaller training set and a validation set, then train your models \n",
    "against the smaller training set and evaluate them against the validation set.<br>\n",
    "The following code performs K-fold cross-validation: it randomly splits the training set into 10 \n",
    "distinct subsets called folds, then it trains and evaluates the Decision Tree model 10 times, \n",
    "picking a different fold for evaluation every time and training on the other 9 folds.<br>\n",
    "Note: Scikit-Learn cross-validation features expect a utility function (greater is better) rather \n",
    "than a cost function (lower is better), so the scoring function is actually the opposite of the \n",
    "MSE (i.e., a negative value), which is why the preceding code computes –scores before \n",
    "calculating the square root.\n"
   ]
  },
  {
   "cell_type": "code",
   "execution_count": 272,
   "id": "53c306f8",
   "metadata": {},
   "outputs": [],
   "source": [
    "from sklearn.model_selection import cross_val_score\n",
    "scores = cross_val_score(tree_reg, hp, housing_label,\n",
    "scoring=\"neg_mean_squared_error\", cv=10)\n",
    "rmse_scores = np.sqrt(-scores)\n"
   ]
  },
  {
   "cell_type": "code",
   "execution_count": 273,
   "id": "12adfb62",
   "metadata": {},
   "outputs": [
    {
     "name": "stdout",
     "output_type": "stream",
     "text": [
      "Scores: [164769.18516813 171985.50165253 163762.87800269 165749.24715624\n",
      " 165396.75982828 165438.99537157 169088.81267259 167260.40220334\n",
      " 170295.88629541 168155.16813148]\n",
      "Mean: 167190.28364822693\n",
      "Standard deviation: 2512.9338719198213\n"
     ]
    }
   ],
   "source": [
    "def display_scores(scores):\n",
    "    print(\"Scores:\", scores)\n",
    "    print(\"Mean:\", scores.mean())\n",
    "    print(\"Standard deviation:\", scores.std()) \n",
    "display_scores(rmse_scores)"
   ]
  },
  {
   "cell_type": "markdown",
   "id": "d796b49c",
   "metadata": {},
   "source": [
    "Now the Decision Tree doesn’t look as good as it did earlier"
   ]
  },
  {
   "cell_type": "markdown",
   "id": "2698aee5",
   "metadata": {},
   "source": [
    "Let’s try one last model now: the RandomForestRegressor.\n",
    "<br>Random Forests work by training many \n",
    "Decision Trees on random subsets of the features, then averaging out their predictions. \n",
    "Building a model on top of many other models is called Ensemble Learning, and it is often a great way \n",
    "to push ML algorithms even further. We will skip most of the code since it is essentially the same as for \n",
    "the other models:"
   ]
  },
  {
   "cell_type": "code",
   "execution_count": 274,
   "id": "fd9f1474",
   "metadata": {},
   "outputs": [
    {
     "data": {
      "text/plain": [
       "RandomForestRegressor()"
      ]
     },
     "execution_count": 274,
     "metadata": {},
     "output_type": "execute_result"
    }
   ],
   "source": [
    "from sklearn.ensemble import RandomForestRegressor\n",
    "forest_reg = RandomForestRegressor()\n",
    "forest_reg.fit(hp, housing_label)\n"
   ]
  },
  {
   "cell_type": "code",
   "execution_count": 279,
   "id": "9477ffce",
   "metadata": {},
   "outputs": [
    {
     "data": {
      "text/plain": [
       "44231.88002352514"
      ]
     },
     "execution_count": 279,
     "metadata": {},
     "output_type": "execute_result"
    }
   ],
   "source": [
    "forest_predictions = forest_reg.predict(hp)\n",
    "forest_mse = mean_squared_error(housing_label, forest_predictions)\n",
    "forest_rmse = np.sqrt(forest_mse)\n",
    "forest_rmse"
   ]
  },
  {
   "cell_type": "code",
   "execution_count": 277,
   "id": "d538c468",
   "metadata": {},
   "outputs": [
    {
     "data": {
      "text/plain": [
       "7067     181100.0\n",
       "18972    191300.0\n",
       "10877    165300.0\n",
       "20440    308100.0\n",
       "15424    156900.0\n",
       "           ...   \n",
       "16708    346100.0\n",
       "3157      82200.0\n",
       "10730    500000.0\n",
       "5242     500001.0\n",
       "11681    165100.0\n",
       "Name: median_house_value, Length: 16512, dtype: float64"
      ]
     },
     "execution_count": 277,
     "metadata": {},
     "output_type": "execute_result"
    }
   ],
   "source": [
    "housing_label\n"
   ]
  },
  {
   "cell_type": "code",
   "execution_count": 280,
   "id": "23d712ee",
   "metadata": {},
   "outputs": [
    {
     "data": {
      "text/plain": [
       "array([187721.01, 205017.02, 186208.  , ..., 400276.01, 388625.64,\n",
       "       183138.01])"
      ]
     },
     "execution_count": 280,
     "metadata": {},
     "output_type": "execute_result"
    }
   ],
   "source": [
    "forest_predictions"
   ]
  },
  {
   "cell_type": "markdown",
   "id": "e751d6d7",
   "metadata": {},
   "source": [
    "## Grid Search\n",
    "\n",
    "One way to do that would be to fiddle with the hyperparameters manually, until you find a \n",
    "great combination of hyperparameter values. \n",
    "\n",
    "This would be very tedious work, and you may not have time to explore many \n",
    "combinations.\n",
    "\n",
    "Instead you should get Scikit-Learn’s GridSearchCV to search for you. \n",
    "\n",
    "All you need to do is tell it which hyperparameters you want it to experiment with, and \n",
    "what values to try out, and it will evaluate all the possible combinations of hyperparameter \n",
    "values, using cross-validation. \n",
    "\n",
    "For example, the following code searches for the best combination of hyperparameter values \n",
    "for the RandomForestRegressor:\n",
    "\n",
    "Note: When you have no idea what value a hyperparameter should have, a simple approach \n",
    "is to try out consecutive powers of 10 (or a smaller number if you want a more fine-grained \n",
    "search, as shown in this example with the n_estimators hyperparameter)"
   ]
  },
  {
   "cell_type": "code",
   "execution_count": 281,
   "id": "80a065c3",
   "metadata": {},
   "outputs": [],
   "source": [
    "from sklearn.model_selection import GridSearchCV"
   ]
  },
  {
   "cell_type": "code",
   "execution_count": 282,
   "id": "880c35b6",
   "metadata": {},
   "outputs": [],
   "source": [
    "param_grid=[\n",
    "    {\"n_estimators\":[3,10,30],\"max_features\":[2,4,5,6]},\n",
    "    {\"bootstrap\":[False],\"n_estimators\":[3,10],\"max_features\":[2,4,5]}\n",
    "]"
   ]
  },
  {
   "cell_type": "code",
   "execution_count": 284,
   "id": "0684d57f",
   "metadata": {},
   "outputs": [],
   "source": [
    "grid_search=GridSearchCV(forest_reg,param_grid,cv=5,scoring=\"neg_mean_squared_error\")\n"
   ]
  },
  {
   "cell_type": "code",
   "execution_count": 285,
   "id": "f3dc9d6f",
   "metadata": {},
   "outputs": [
    {
     "data": {
      "text/plain": [
       "GridSearchCV(cv=5, estimator=RandomForestRegressor(),\n",
       "             param_grid=[{'max_features': [2, 4, 5, 6],\n",
       "                          'n_estimators': [3, 10, 30]},\n",
       "                         {'bootstrap': [False], 'max_features': [2, 4, 5],\n",
       "                          'n_estimators': [3, 10]}],\n",
       "             scoring='neg_mean_squared_error')"
      ]
     },
     "execution_count": 285,
     "metadata": {},
     "output_type": "execute_result"
    }
   ],
   "source": [
    "grid_search.fit(hp,housing_labels)"
   ]
  },
  {
   "cell_type": "markdown",
   "id": "3d42d17f",
   "metadata": {},
   "source": [
    "This param_grid tells Scikit-Learn to first evaluate all 3 × 4 = 12 combinations of \n",
    "n_estimators and max_features hyperparameter values specified in the first dict , then try all \n",
    "2 × 3 = 6 combinations of hyperparameter values in the second dict, but this time with the \n",
    "bootstrap hyperparameter set to False instead of True (which is the default value for this \n",
    "hyperparameter).\n",
    "\n",
    "All in all, the grid search will explore 12 + 6 = 18 combinations of RandomForestRegressor\n",
    "hyperparameter values, and it will train each model five times (since we are using five-fold \n",
    "cross validation).\n",
    "\n",
    " In other words, all in all, there will be 18 × 5 = 90 rounds of training! It may take quite a long \n",
    "time, but when it is done you can get the best combination of parameters like this"
   ]
  },
  {
   "cell_type": "code",
   "execution_count": 286,
   "id": "31b0c38b",
   "metadata": {},
   "outputs": [
    {
     "data": {
      "text/plain": [
       "RandomForestRegressor(max_features=6, n_estimators=30)"
      ]
     },
     "execution_count": 286,
     "metadata": {},
     "output_type": "execute_result"
    }
   ],
   "source": [
    "grid_search.best_estimator_"
   ]
  },
  {
   "cell_type": "markdown",
   "id": "54674739",
   "metadata": {},
   "source": [
    "Since 30 is the maximum value of n_estimators that was evaluated, you should \n",
    "probably evaluate higher values as well, since the score may continue to improve"
   ]
  },
  {
   "cell_type": "code",
   "execution_count": 287,
   "id": "f0ddbfe0",
   "metadata": {},
   "outputs": [
    {
     "name": "stdout",
     "output_type": "stream",
     "text": [
      "64129.55139429231 {'max_features': 2, 'n_estimators': 3}\n",
      "57086.03067474373 {'max_features': 2, 'n_estimators': 10}\n",
      "53996.416195495614 {'max_features': 2, 'n_estimators': 30}\n",
      "61977.656004300115 {'max_features': 4, 'n_estimators': 3}\n",
      "54442.785112995465 {'max_features': 4, 'n_estimators': 10}\n",
      "52458.052989325006 {'max_features': 4, 'n_estimators': 30}\n",
      "60585.82141641998 {'max_features': 5, 'n_estimators': 3}\n",
      "53825.38763612151 {'max_features': 5, 'n_estimators': 10}\n",
      "51721.54609792058 {'max_features': 5, 'n_estimators': 30}\n",
      "60444.54811474545 {'max_features': 6, 'n_estimators': 3}\n",
      "53513.57883580776 {'max_features': 6, 'n_estimators': 10}\n",
      "51636.58525815516 {'max_features': 6, 'n_estimators': 30}\n",
      "63484.890187081124 {'bootstrap': False, 'max_features': 2, 'n_estimators': 3}\n",
      "55287.8326222199 {'bootstrap': False, 'max_features': 2, 'n_estimators': 10}\n",
      "59905.85039475123 {'bootstrap': False, 'max_features': 4, 'n_estimators': 3}\n",
      "53714.6483027905 {'bootstrap': False, 'max_features': 4, 'n_estimators': 10}\n",
      "59535.84535084661 {'bootstrap': False, 'max_features': 5, 'n_estimators': 3}\n",
      "53801.18022439239 {'bootstrap': False, 'max_features': 5, 'n_estimators': 10}\n"
     ]
    }
   ],
   "source": [
    "cvres=grid_search.cv_results_\n",
    "for mean_score,param in zip(cvres[\"mean_test_score\"],cvres[\"params\"]):\n",
    "        print (np.sqrt(-mean_score),param)"
   ]
  },
  {
   "cell_type": "markdown",
   "id": "7568a4c9",
   "metadata": {},
   "source": [
    "## Evaluate your system on the test set"
   ]
  },
  {
   "cell_type": "code",
   "execution_count": 289,
   "id": "ac3cd846",
   "metadata": {},
   "outputs": [],
   "source": [
    "final_model=grid_search.best_estimator_"
   ]
  },
  {
   "cell_type": "code",
   "execution_count": 290,
   "id": "478fa243",
   "metadata": {},
   "outputs": [],
   "source": [
    "X_test=StratTest.drop(\"median_house_value\",axis=1)"
   ]
  },
  {
   "cell_type": "code",
   "execution_count": 291,
   "id": "dc6a3bfc",
   "metadata": {},
   "outputs": [],
   "source": [
    "Y_test=StratTest[\"median_house_value\"].copy()"
   ]
  },
  {
   "cell_type": "code",
   "execution_count": 293,
   "id": "f14e5cd9",
   "metadata": {},
   "outputs": [],
   "source": [
    "cat_test=X_test[\"ocean_proximity\"]"
   ]
  },
  {
   "cell_type": "code",
   "execution_count": 294,
   "id": "899462e9",
   "metadata": {},
   "outputs": [],
   "source": [
    "num_test=X_test.drop(\"ocean_proximity\",axis=1)"
   ]
  },
  {
   "cell_type": "code",
   "execution_count": 295,
   "id": "1b401dc7",
   "metadata": {},
   "outputs": [],
   "source": [
    "hp2=num_pipeline.transform(num_test)"
   ]
  },
  {
   "cell_type": "code",
   "execution_count": 297,
   "id": "17ee0d3f",
   "metadata": {},
   "outputs": [],
   "source": [
    "hot2=Binarizer.transform(cat_test)"
   ]
  },
  {
   "cell_type": "code",
   "execution_count": 298,
   "id": "e5281a0b",
   "metadata": {},
   "outputs": [],
   "source": [
    "hpneed=np.concatenate((hp2,hot2),axis=1)"
   ]
  },
  {
   "cell_type": "code",
   "execution_count": 299,
   "id": "fe0c3bf5",
   "metadata": {},
   "outputs": [],
   "source": [
    "predict4=final_model.predict(hpneed)"
   ]
  },
  {
   "cell_type": "code",
   "execution_count": 301,
   "id": "8df72bea",
   "metadata": {},
   "outputs": [],
   "source": [
    "error=mean_squared_error(Y_test,predict4)"
   ]
  },
  {
   "cell_type": "code",
   "execution_count": 302,
   "id": "b7c7278f",
   "metadata": {},
   "outputs": [
    {
     "data": {
      "text/plain": [
       "49444.69563742982"
      ]
     },
     "execution_count": 302,
     "metadata": {},
     "output_type": "execute_result"
    }
   ],
   "source": [
    "rmse=np.sqrt(error)\n",
    "rmse"
   ]
  },
  {
   "cell_type": "markdown",
   "id": "ca31989b",
   "metadata": {},
   "source": [
    "• The performance will usually be slightly worse than what you measured using \n",
    "crossvalidation if you did a lot of hyperparameter tuning (because your system ends up \n",
    "fine-tuned to perform well on the validation data, and will likely not perform as well on \n",
    "unknown datasets). \n",
    "\n",
    "• It is not the case in this example, but when this happens you must resist the temptation to \n",
    "tweak the hyperparameters to make the numbers look good on the test set; the \n",
    "improvements would be unlikely to generalize to new data.\n",
    "\n",
    "• Now comes the project prelaunch phase: you need to present your solution (highlighting \n",
    "what you have learned, what worked and what did not, what assumptions were made, and \n",
    "what your system’s limitations are), document everything, and create nice presentations \n",
    "with clear visualizations and easy-to-remember statements (e.g., “the median income is the \n",
    "number one predictor of housing prices”)."
   ]
  }
 ],
 "metadata": {
  "kernelspec": {
   "display_name": "Python 3",
   "language": "python",
   "name": "python3"
  },
  "language_info": {
   "codemirror_mode": {
    "name": "ipython",
    "version": 3
   },
   "file_extension": ".py",
   "mimetype": "text/x-python",
   "name": "python",
   "nbconvert_exporter": "python",
   "pygments_lexer": "ipython3",
   "version": "3.8.8"
  }
 },
 "nbformat": 4,
 "nbformat_minor": 5
}
